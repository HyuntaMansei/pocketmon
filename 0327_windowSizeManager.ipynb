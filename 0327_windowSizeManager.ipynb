{
 "cells": [
  {
   "cell_type": "code",
   "execution_count": null,
   "metadata": {},
   "outputs": [],
   "source": [
    "#현재 모든 창들의 사이즈를 기억하여 DB에 저장. \n",
    "#저장된 사이즈를 불러와서 창들의 사이즈를 조정."
   ]
  }
 ],
 "metadata": {
  "language_info": {
   "name": "python"
  },
  "orig_nbformat": 4
 },
 "nbformat": 4,
 "nbformat_minor": 2
}
