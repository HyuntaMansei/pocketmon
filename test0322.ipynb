{
 "cells": [
  {
   "cell_type": "code",
   "execution_count": 79,
   "metadata": {},
   "outputs": [],
   "source": [
    "import importlib\n",
    "import android_manager\n",
    "import poke_manager"
   ]
  },
  {
   "cell_type": "code",
   "execution_count": 80,
   "metadata": {},
   "outputs": [
    {
     "data": {
      "text/plain": [
       "<module 'poke_manager' from 'c:\\\\Users\\\\jchoi\\\\Coding\\\\python\\\\pokemon\\\\poke_manager.py'>"
      ]
     },
     "execution_count": 80,
     "metadata": {},
     "output_type": "execute_result"
    }
   ],
   "source": [
    "importlib.reload(android_manager)\n",
    "importlib.reload(poke_manager)"
   ]
  },
  {
   "cell_type": "code",
   "execution_count": 81,
   "metadata": {},
   "outputs": [
    {
     "name": "stdout",
     "output_type": "stream",
     "text": [
      "ce071717d4035622047e\n",
      "ce10171ab2312a0d04\n",
      "Deviced SM-N950N is connedted\n",
      "Hwnd: 198560 \n",
      "Deviced SM-G950N is connedted\n",
      "Hwnd: 460718 \n"
     ]
    }
   ],
   "source": [
    "from ppadb.client import Client as AdbClient\n",
    "adb_conf = dict(host='localhost', port=5037)\n",
    "client = AdbClient(**adb_conf)\n",
    "for d in client.devices():\n",
    "    print(d.get_serial_no())\n",
    "\n",
    "#scrcpy가 실행되어져 있어야 한다.\n",
    "dev_note8 = poke_manager.Poke_device(client.devices()[0])\n",
    "dev_s8 = poke_manager.Poke_device(client.devices()[1])"
   ]
  },
  {
   "cell_type": "code",
   "execution_count": 84,
   "metadata": {},
   "outputs": [
    {
     "name": "stdout",
     "output_type": "stream",
     "text": [
      "input touchscreen tap 545 1900\n",
      "input touchscreen tap 534 1447\n",
      "input swipe 1000 1900 1000 400 200\n",
      "input swipe 1000 1900 1000 400 200\n",
      "input swipe 1000 1900 1000 400 200\n",
      "input swipe 1000 1900 1000 400 200\n",
      "input touchscreen tap 180 300\n",
      "input touchscreen tap 550 2000\n",
      "100골 1개 구매함. 남은 선물: 10\n",
      "input touchscreen tap 180 300\n",
      "input touchscreen tap 550 2000\n",
      "100골 2개 구매함. 남은 선물: 9\n",
      "input touchscreen tap 180 300\n",
      "input touchscreen tap 550 2000\n",
      "100골 3개 구매함. 남은 선물: 8\n",
      "input touchscreen tap 180 300\n",
      "input touchscreen tap 550 2000\n",
      "100골 4개 구매함. 남은 선물: 7\n",
      "input touchscreen tap 180 300\n",
      "input touchscreen tap 550 2000\n",
      "100골 5개 구매함. 남은 선물: 6\n",
      "input touchscreen tap 180 300\n",
      "input touchscreen tap 550 2000\n",
      "100골 6개 구매함. 남은 선물: 5\n",
      "input touchscreen tap 180 300\n",
      "input touchscreen tap 550 2000\n",
      "100골 7개 구매함. 남은 선물: 4\n",
      "input touchscreen tap 180 300\n",
      "input touchscreen tap 550 2000\n",
      "100골 8개 구매함. 남은 선물: 3\n",
      "input touchscreen tap 180 300\n",
      "input touchscreen tap 550 2000\n",
      "100골 9개 구매함. 남은 선물: 2\n",
      "input touchscreen tap 180 300\n",
      "input touchscreen tap 550 2000\n",
      "100골 10개 구매함. 남은 선물: 1\n",
      "input touchscreen tap 545 1900\n"
     ]
    }
   ],
   "source": [
    "dev_s8.buy_100(10)\n",
    "# dev_note8.buy_100(5)\n",
    "# dev_s8.open_present(18)\n",
    "# dev_note8.open_present(18)\n",
    "# dev_s8.send_present(18)\n",
    "# dev_note8.send_present(18)"
   ]
  }
 ],
 "metadata": {
  "kernelspec": {
   "display_name": "py311",
   "language": "python",
   "name": "python3"
  },
  "language_info": {
   "codemirror_mode": {
    "name": "ipython",
    "version": 3
   },
   "file_extension": ".py",
   "mimetype": "text/x-python",
   "name": "python",
   "nbconvert_exporter": "python",
   "pygments_lexer": "ipython3",
   "version": "3.11.0"
  },
  "orig_nbformat": 4
 },
 "nbformat": 4,
 "nbformat_minor": 2
}
