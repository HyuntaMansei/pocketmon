{
 "cells": [
  {
   "cell_type": "code",
   "execution_count": 51,
   "metadata": {},
   "outputs": [],
   "source": [
    "from IPython.core.interactiveshell import InteractiveShell\n",
    "InteractiveShell.ast_node_interactivity = 'all'"
   ]
  },
  {
   "cell_type": "code",
   "execution_count": 4,
   "metadata": {},
   "outputs": [],
   "source": [
    "import pandas as pd\n",
    "import numpy as np\n",
    "import importlib\n",
    "import pymysql\n",
    "import requests\n",
    "\n",
    "from db_manager import db_manager"
   ]
  },
  {
   "cell_type": "code",
   "execution_count": 29,
   "metadata": {},
   "outputs": [
    {
     "data": {
      "text/plain": [
       "pandas.core.indexes.datetimes.DatetimeIndex"
      ]
     },
     "execution_count": 29,
     "metadata": {},
     "output_type": "execute_result"
    }
   ],
   "source": [
    "#2023년의 모든 날짜를 생성하여 db에 넘겨주기\n",
    "#날짜 생성은 넘파이에서? 판다스인가? 여튼.. 그 후 DB연결하고 data 쓰기.. db 모듈을 만들어야 할 듯? 우선 여기의 하부 디렉토리에 만든 후 모듈로 독립적으로 사용하도록 하자. \n",
    "index_date = pd.date_range('2023/01/01', periods=365)\n",
    "type(index_date)"
   ]
  },
  {
   "cell_type": "code",
   "execution_count": 85,
   "metadata": {},
   "outputs": [
    {
     "data": {
      "text/plain": [
       "<module 'db_manager.db_manager' from 'c:\\\\Users\\\\jchoi\\\\Coding\\\\python\\\\pocketmon\\\\db_manager\\\\db_manager.py'>"
      ]
     },
     "execution_count": 85,
     "metadata": {},
     "output_type": "execute_result"
    },
    {
     "name": "stderr",
     "output_type": "stream",
     "text": [
      "Exception ignored in: <function DbManager.__del__ at 0x000001D05A38BCE0>\n",
      "Traceback (most recent call last):\n",
      "  File \"c:\\Users\\jchoi\\Coding\\python\\pocketmon\\db_manager\\db_manager.py\", line 50, in __del__\n",
      "    self.close()\n",
      "  File \"c:\\Users\\jchoi\\Coding\\python\\pocketmon\\db_manager\\db_manager.py\", line 59, in close\n",
      "    self.conn.close()\n",
      "  File \"c:\\Users\\jchoi\\anaconda3\\envs\\py311\\Lib\\site-packages\\pymysql\\connections.py\", line 404, in close\n",
      "    raise err.Error(\"Already closed\")\n",
      "pymysql.err.Error: Already closed\n"
     ]
    },
    {
     "name": "stdout",
     "output_type": "stream",
     "text": [
      "Connected\n"
     ]
    }
   ],
   "source": [
    "importlib.reload(db_manager)\n",
    "dbm = db_manager.DbManager()"
   ]
  },
  {
   "cell_type": "code",
   "execution_count": 84,
   "metadata": {},
   "outputs": [],
   "source": [
    "dbm.close()"
   ]
  },
  {
   "cell_type": "code",
   "execution_count": 86,
   "metadata": {},
   "outputs": [
    {
     "name": "stdout",
     "output_type": "stream",
     "text": [
      "('pokemon_evol_tb',)\n",
      "('pokemon_info_tb',)\n"
     ]
    }
   ],
   "source": [
    "dbm.execute(\"show tables\")\n",
    "dbm.print_fetched()"
   ]
  },
  {
   "cell_type": "code",
   "execution_count": 26,
   "metadata": {},
   "outputs": [],
   "source": [
    "#이제 날짜를 넣어보자. \n",
    "sql = r'insert into date_tb (date_in_day) values (%s)'\n",
    "for d in index_date:\n",
    "    dbm.execute(sql, (d))"
   ]
  },
  {
   "cell_type": "code",
   "execution_count": null,
   "metadata": {},
   "outputs": [],
   "source": [
    "dbm.execute(\"select * from date_tb\")\n",
    "dbm.print_fetched()"
   ]
  },
  {
   "cell_type": "code",
   "execution_count": 32,
   "metadata": {},
   "outputs": [
    {
     "data": {
      "text/html": [
       "<div>\n",
       "<style scoped>\n",
       "    .dataframe tbody tr th:only-of-type {\n",
       "        vertical-align: middle;\n",
       "    }\n",
       "\n",
       "    .dataframe tbody tr th {\n",
       "        vertical-align: top;\n",
       "    }\n",
       "\n",
       "    .dataframe thead th {\n",
       "        text-align: right;\n",
       "    }\n",
       "</style>\n",
       "<table border=\"1\" class=\"dataframe\">\n",
       "  <thead>\n",
       "    <tr style=\"text-align: right;\">\n",
       "      <th></th>\n",
       "      <th>a</th>\n",
       "      <th>b</th>\n",
       "      <th>c</th>\n",
       "    </tr>\n",
       "  </thead>\n",
       "  <tbody>\n",
       "    <tr>\n",
       "      <th>2023-01-01</th>\n",
       "      <td>0</td>\n",
       "      <td>1</td>\n",
       "      <td>2</td>\n",
       "    </tr>\n",
       "    <tr>\n",
       "      <th>2023-01-02</th>\n",
       "      <td>3</td>\n",
       "      <td>4</td>\n",
       "      <td>5</td>\n",
       "    </tr>\n",
       "    <tr>\n",
       "      <th>2023-01-03</th>\n",
       "      <td>6</td>\n",
       "      <td>7</td>\n",
       "      <td>8</td>\n",
       "    </tr>\n",
       "    <tr>\n",
       "      <th>2023-01-04</th>\n",
       "      <td>9</td>\n",
       "      <td>10</td>\n",
       "      <td>11</td>\n",
       "    </tr>\n",
       "  </tbody>\n",
       "</table>\n",
       "</div>"
      ],
      "text/plain": [
       "            a   b   c\n",
       "2023-01-01  0   1   2\n",
       "2023-01-02  3   4   5\n",
       "2023-01-03  6   7   8\n",
       "2023-01-04  9  10  11"
      ]
     },
     "execution_count": 32,
     "metadata": {},
     "output_type": "execute_result"
    }
   ],
   "source": [
    "data = np.arange(12)\n",
    "data = data.reshape(4, 3)\n",
    "index_data = pd.date_range('2023/01/01', periods=4)\n",
    "columns_data = ['a', 'b', 'c']\n",
    "\n",
    "pd.DataFrame(data, index=index_data, columns=columns_data)"
   ]
  },
  {
   "cell_type": "code",
   "execution_count": null,
   "metadata": {},
   "outputs": [],
   "source": [
    "url = 'https://pokemongo.inven.co.kr/dataninfo/pokemon/'\n",
    "response = requests.get(url)\n",
    "\n",
    "if response.status_code == 200:  # Check if request was successful\n",
    "    print(response.text)  # Print the content of the webpage\n",
    "else:\n",
    "    print('Error:', response.status_code)"
   ]
  },
  {
   "cell_type": "code",
   "execution_count": 89,
   "metadata": {},
   "outputs": [],
   "source": [
    "from bs4 import BeautifulSoup\n",
    "\n",
    "pokemon_soup = BeautifulSoup(response.text, 'html.parser')"
   ]
  },
  {
   "cell_type": "code",
   "execution_count": null,
   "metadata": {},
   "outputs": [],
   "source": [
    "from cgitb import text\n",
    "\n",
    "\n",
    "pokemons_soup = pokemon_soup.select('#pokemongoList > ul > li > a')\n",
    "\n",
    "pokemon_number_list = []\n",
    "pokemon_name_list = []\n",
    "pokemon_type1_list = []\n",
    "pokemon_type2_list = []\n",
    "pokemon_type1_src = []\n",
    "pokemon_type2_src = []\n",
    "\n",
    "for p in pokemons_soup:\n",
    "    poke_text = p.select('span.pokemonname')[0].text\n",
    "    #번호와 이름을 분리한다. \n",
    "    num_and_name = poke_text.split('.')\n",
    "    print(num_and_name)\n",
    "    \n",
    "    pokemon_number_list.append(num_and_name[0].strip())\n",
    "    pokemon_name_list.append(num_and_name[1].strip())\n",
    "    pokemon_type1_src.append()\n"
   ]
  },
  {
   "cell_type": "code",
   "execution_count": 110,
   "metadata": {},
   "outputs": [
    {
     "data": {
      "text/plain": [
       "'1'"
      ]
     },
     "execution_count": 110,
     "metadata": {},
     "output_type": "execute_result"
    },
    {
     "data": {
      "text/plain": [
       "'이상해씨'"
      ]
     },
     "execution_count": 110,
     "metadata": {},
     "output_type": "execute_result"
    }
   ],
   "source": [
    "pokemon_number_list[0]\n",
    "pokemon_name_list[0]"
   ]
  },
  {
   "cell_type": "code",
   "execution_count": 21,
   "metadata": {},
   "outputs": [],
   "source": [
    "pocketmon_names = soup.find_all('span', {'class':'pokemonname'})\n",
    "for p in pocketmon_names:\n",
    "    pass\n",
    "    # print(p.text)\n",
    "pocketmon = p.parent"
   ]
  },
  {
   "cell_type": "code",
   "execution_count": 75,
   "metadata": {},
   "outputs": [],
   "source": [
    "# url = 'https://pokemongo.inven.co.kr/'+pocketmon['href']\n",
    "url = 'https://pokemongo.inven.co.kr/dataninfo/pokemon/detail.php?code=133'\n",
    "pocketmon_info_html = requests.get(url)"
   ]
  },
  {
   "cell_type": "code",
   "execution_count": 76,
   "metadata": {},
   "outputs": [],
   "source": [
    "pocketmon_info_soup = BeautifulSoup(pocketmon_info_html.text, 'html.parser')"
   ]
  },
  {
   "cell_type": "code",
   "execution_count": 52,
   "metadata": {},
   "outputs": [
    {
     "data": {
      "text/plain": [
       "<li class=\"item\"><a class=\"link\" href=\"https://www.inven.co.kr/\">웹진</a></li>"
      ]
     },
     "execution_count": 52,
     "metadata": {},
     "output_type": "execute_result"
    }
   ],
   "source": [
    "pocketmon_info_soup.select()"
   ]
  },
  {
   "cell_type": "code",
   "execution_count": 77,
   "metadata": {},
   "outputs": [],
   "source": [
    "evol_list = pocketmon_info_soup.find('li', {'class':'arrow'}).parent\n",
    "lists = evol_list.find_all('li')"
   ]
  },
  {
   "cell_type": "code",
   "execution_count": 81,
   "metadata": {},
   "outputs": [
    {
     "name": "stdout",
     "output_type": "stream",
     "text": [
      "no parent. Name: 133.이브이\n",
      "arrow\n",
      "parent: 133.이브이, and Name: 134.샤미드\n",
      "parent: 133.이브이, and Name: 135.쥬피썬더\n",
      "parent: 133.이브이, and Name: 136.부스터\n",
      "parent: 133.이브이, and Name: 196.에브이\n",
      "parent: 133.이브이, and Name: 197.블래키\n",
      "parent: 133.이브이, and Name: 470.리피아\n",
      "parent: 133.이브이, and Name: 471.글레이시아\n"
     ]
    },
    {
     "data": {
      "text/plain": [
       "1"
      ]
     },
     "execution_count": 81,
     "metadata": {},
     "output_type": "execute_result"
    }
   ],
   "source": [
    "# lists\n",
    "evol_step = 0\n",
    "cur_name = ''\n",
    "par_name = ''\n",
    "\n",
    "for l in lists:\n",
    "    get_by_class = l.get('class')\n",
    "    if get_by_class != None:\n",
    "        print(get_by_class[0])\n",
    "        evol_step += 1\n",
    "        par_name = cur_name\n",
    "    else:\n",
    "        cur_name = l.find('span').find('a').text\n",
    "        if par_name != '':\n",
    "            print(f\"parent: {par_name}, and Name: {cur_name}\")            \n",
    "        else:\n",
    "            print(f\"no parent. Name: {cur_name}\")\n",
    "        \n",
    "evol_step    "
   ]
  }
 ],
 "metadata": {
  "kernelspec": {
   "display_name": "py311",
   "language": "python",
   "name": "python3"
  },
  "language_info": {
   "codemirror_mode": {
    "name": "ipython",
    "version": 3
   },
   "file_extension": ".py",
   "mimetype": "text/x-python",
   "name": "python",
   "nbconvert_exporter": "python",
   "pygments_lexer": "ipython3",
   "version": "3.11.0"
  },
  "orig_nbformat": 4,
  "vscode": {
   "interpreter": {
    "hash": "ed553032690aa97aad3f5f9e8c1dab30af15e459bab17ac2874cbc13dd99e883"
   }
  }
 },
 "nbformat": 4,
 "nbformat_minor": 2
}
