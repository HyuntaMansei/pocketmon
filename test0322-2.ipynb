{
 "cells": [
  {
   "cell_type": "code",
   "execution_count": 25,
   "metadata": {},
   "outputs": [],
   "source": [
    "import importlib\n",
    "import android_manager\n",
    "import poke_manager\n",
    "import time"
   ]
  },
  {
   "cell_type": "code",
   "execution_count": 2,
   "metadata": {},
   "outputs": [
    {
     "data": {
      "text/plain": [
       "<module 'poke_manager' from 'c:\\\\Users\\\\boringstock\\\\Coding\\\\Python\\\\pokemon\\\\poke_manager.py'>"
      ]
     },
     "execution_count": 2,
     "metadata": {},
     "output_type": "execute_result"
    }
   ],
   "source": [
    "importlib.reload(android_manager)\n",
    "importlib.reload(poke_manager)"
   ]
  },
  {
   "cell_type": "code",
   "execution_count": 23,
   "metadata": {},
   "outputs": [
    {
     "name": "stdout",
     "output_type": "stream",
     "text": [
      "ce071717d4035622047e\n",
      "ce10171ab2312a0d04\n",
      "Deviced SM-G950N is connedted\n",
      "Hwnd: 1051622 \n",
      "Deviced SM-N950N is connedted\n",
      "Hwnd: 592652 \n"
     ]
    }
   ],
   "source": [
    "from ppadb.client import Client as AdbClient\n",
    "adb_conf = dict(host='localhost', port=5037)\n",
    "client = AdbClient(**adb_conf)\n",
    "for d in client.devices():\n",
    "    print(d.get_serial_no())\n",
    "\n",
    "#scrcpy가 실행되어져 있어야 한다.\n",
    "dev_s8 = poke_manager.Poke_device(client.device('ce10171ab2312a0d04'))\n",
    "dev_note8 = poke_manager.Poke_device(client.device('ce071717d4035622047e'))"
   ]
  },
  {
   "cell_type": "code",
   "execution_count": null,
   "metadata": {},
   "outputs": [],
   "source": [
    "dev_s8.buy_100(13)\n",
    "dev_note8.buy_100(35)\n",
    "# dev_s8.open_present(18)\n",
    "# dev_note8.open_present(18)\n",
    "# dev_s8.send_present(18)\n",
    "# dev_note8.send_present(18)"
   ]
  },
  {
   "cell_type": "code",
   "execution_count": null,
   "metadata": {},
   "outputs": [],
   "source": [
    "#교환함수\n",
    "#첫번째 몬스터 클릭\n",
    "dev_s8.tap_xy(198,734)\n",
    "dev_note8.tap_xy(198,734)\n",
    "time.sleep(1)\n",
    "#NEXT\n",
    "dev_s8.tap_xy(540,1700)\n",
    "dev_note8.tap_xy(540,1700)\n",
    "time.sleep(3)\n",
    "#Confirm\n",
    "dev_s8.tap_xy(99, 1068)\n",
    "dev_note8.tap_xy(99, 1068)\n",
    "time.sleep(15)\n",
    "#교환완료 후 다시 교환준비\n",
    "dev_s8.click_bottom_center()\n",
    "dev_note8.click_bottom_center()\n",
    "time.sleep(5)\n",
    "dev_s8.tap_xy(904, 1604)\n",
    "dev_note8.tap_xy(904, 1604)\n",
    "time.sleep(5)"
   ]
  },
  {
   "cell_type": "code",
   "execution_count": 28,
   "metadata": {},
   "outputs": [
    {
     "name": "stdout",
     "output_type": "stream",
     "text": [
      "input touchscreen tap 545 1900\n",
      "input touchscreen tap 545 1900\n",
      "input touchscreen tap 904 1604\n",
      "input touchscreen tap 904 1604\n"
     ]
    }
   ],
   "source": [
    "#교환완료 후 다시 교환준비\n",
    "dev_s8.click_bottom_center()\n",
    "dev_note8.click_bottom_center()\n",
    "time.sleep(5)\n",
    "dev_s8.tap_xy(904, 1604)\n",
    "dev_note8.tap_xy(904, 1604)\n",
    "time.sleep(5)"
   ]
  }
 ],
 "metadata": {
  "kernelspec": {
   "display_name": "py311",
   "language": "python",
   "name": "python3"
  },
  "language_info": {
   "codemirror_mode": {
    "name": "ipython",
    "version": 3
   },
   "file_extension": ".py",
   "mimetype": "text/x-python",
   "name": "python",
   "nbconvert_exporter": "python",
   "pygments_lexer": "ipython3",
   "version": "3.11.0"
  },
  "orig_nbformat": 4
 },
 "nbformat": 4,
 "nbformat_minor": 2
}
