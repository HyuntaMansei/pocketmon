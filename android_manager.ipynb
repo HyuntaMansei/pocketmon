{
 "cells": [
  {
   "cell_type": "code",
   "execution_count": 1,
   "metadata": {},
   "outputs": [],
   "source": [
    "import time\n",
    "from ppadb.client import Client as AdbClient\n",
    "from com.dtmilano.android.viewclient import ViewClient\n",
    "import configparser\n",
    "import os"
   ]
  },
  {
   "cell_type": "code",
   "execution_count": 9,
   "metadata": {},
   "outputs": [],
   "source": [
    "#client접속\n",
    "client_conf = dict(host = 'localhost', port = 5037)\n",
    "cur_client = AdbClient(**client_conf)\n",
    "#Note8\n",
    "device_note8 = cur_client.device('ce071717d4035622047e')\n",
    "#S8\n",
    "device_s8 = cur_client.device('ce10171ab2312a0d04')\n",
    "\n",
    "# cur_device = device_note8\n",
    "cur_device = device_s8"
   ]
  },
  {
   "cell_type": "code",
   "execution_count": 5,
   "metadata": {},
   "outputs": [],
   "source": [
    "#홈버튼 클릭\n",
    "press_home()\n",
    "#홈화면 > 포케몬 실행(터치)\n",
    "vc = ViewClient(*ViewClient.connectToDeviceOrExit())\n",
    "# vc.traverse()\n",
    "vc.findViewWithText(\"Pokémon GO\").touch()"
   ]
  },
  {
   "cell_type": "code",
   "execution_count": 28,
   "metadata": {},
   "outputs": [
    {
     "name": "stdout",
     "output_type": "stream",
     "text": [
      "input touchscreen tap 120 1910\n",
      "input touchscreen tap 736 127\n",
      "input touchscreen tap 918 1934\n",
      "input touchscreen tap 945 966\n",
      "input touchscreen tap 918 1934\n",
      "input touchscreen tap 940 1738\n",
      "input touchscreen tap 378 839\n",
      "input touchscreen tap 199 1630\n",
      "input touchscreen tap 588 687\n",
      "input touchscreen tap 546 1740\n",
      "input touchscreen tap 545 1900\n",
      "input touchscreen tap 918 1934\n",
      "input touchscreen tap 945 966\n",
      "input touchscreen tap 918 1934\n",
      "input touchscreen tap 940 1738\n",
      "input touchscreen tap 378 839\n",
      "input touchscreen tap 199 1630\n",
      "input touchscreen tap 588 687\n",
      "input touchscreen tap 546 1740\n",
      "input touchscreen tap 545 1900\n",
      "input touchscreen tap 918 1934\n",
      "input touchscreen tap 945 966\n",
      "input touchscreen tap 918 1934\n",
      "input touchscreen tap 940 1738\n",
      "input touchscreen tap 378 839\n",
      "input touchscreen tap 199 1630\n",
      "input touchscreen tap 588 687\n",
      "input touchscreen tap 546 1740\n",
      "input touchscreen tap 545 1900\n",
      "input touchscreen tap 918 1934\n",
      "input touchscreen tap 945 966\n",
      "input touchscreen tap 918 1934\n",
      "input touchscreen tap 940 1738\n",
      "input touchscreen tap 378 839\n",
      "input touchscreen tap 199 1630\n",
      "input touchscreen tap 588 687\n",
      "input touchscreen tap 546 1740\n",
      "input touchscreen tap 545 1900\n",
      "input touchscreen tap 918 1934\n",
      "input touchscreen tap 945 966\n",
      "input touchscreen tap 918 1934\n",
      "input touchscreen tap 940 1738\n",
      "input touchscreen tap 378 839\n",
      "input touchscreen tap 199 1630\n",
      "input touchscreen tap 588 687\n",
      "input touchscreen tap 546 1740\n",
      "input touchscreen tap 545 1900\n",
      "input touchscreen tap 918 1934\n",
      "input touchscreen tap 945 966\n",
      "input touchscreen tap 918 1934\n",
      "input touchscreen tap 940 1738\n",
      "input touchscreen tap 378 839\n",
      "input touchscreen tap 199 1630\n",
      "input touchscreen tap 588 687\n",
      "input touchscreen tap 546 1740\n",
      "input touchscreen tap 545 1900\n",
      "input touchscreen tap 918 1934\n",
      "input touchscreen tap 945 966\n",
      "input touchscreen tap 918 1934\n",
      "input touchscreen tap 940 1738\n",
      "input touchscreen tap 378 839\n",
      "input touchscreen tap 199 1630\n",
      "input touchscreen tap 588 687\n",
      "input touchscreen tap 546 1740\n",
      "input touchscreen tap 545 1900\n",
      "input touchscreen tap 918 1934\n",
      "input touchscreen tap 945 966\n",
      "input touchscreen tap 918 1934\n",
      "input touchscreen tap 940 1738\n",
      "input touchscreen tap 378 839\n",
      "input touchscreen tap 199 1630\n",
      "input touchscreen tap 588 687\n",
      "input touchscreen tap 546 1740\n",
      "input touchscreen tap 545 1900\n",
      "input touchscreen tap 918 1934\n",
      "input touchscreen tap 945 966\n",
      "input touchscreen tap 918 1934\n",
      "input touchscreen tap 940 1738\n",
      "input touchscreen tap 378 839\n",
      "input touchscreen tap 199 1630\n",
      "input touchscreen tap 588 687\n",
      "input touchscreen tap 546 1740\n",
      "input touchscreen tap 545 1900\n",
      "input touchscreen tap 918 1934\n",
      "input touchscreen tap 945 966\n",
      "input touchscreen tap 918 1934\n",
      "input touchscreen tap 940 1738\n",
      "input touchscreen tap 378 839\n",
      "input touchscreen tap 199 1630\n",
      "input touchscreen tap 588 687\n",
      "input touchscreen tap 546 1740\n",
      "input touchscreen tap 545 1900\n",
      "input touchscreen tap 545 1900\n"
     ]
    }
   ],
   "source": [
    "#포케몬 여러행동 실행하기\n",
    "# poke_buy_100(20)\n",
    "# poke_open_present(10)\n",
    "poke_send_present(10)"
   ]
  },
  {
   "cell_type": "code",
   "execution_count": 10,
   "metadata": {},
   "outputs": [],
   "source": [
    "#안드로이드 공통 함수\n",
    "#홈버튼 누르기\n",
    "def press_home(device=cur_device):\n",
    "    cmd = 'input keyevent KEYCODE_HOME'\n",
    "    device.shell(cmd)\n",
    "    time.sleep(0.8)\n",
    "    \n",
    "#뒤로가기 누르기\n",
    "def press_back(device=cur_device):\n",
    "    cmd = 'input keyevent KEYCODE_BACK'\n",
    "    print(cmd)\n",
    "    device.shell(cmd)\n",
    "    time.sleep(0.8)\n",
    "    \n",
    "def tap_xy(x:int, y:int, device=cur_device):\n",
    "    cmd = f'input touchscreen tap {x} {y}'\n",
    "    print(cmd)\n",
    "    device.shell(cmd)\n",
    "    time.sleep(0.8)\n",
    "    \n",
    "def swipe_xy_xy(xSrc, ySrc, xDes, yDes, duration=200, device=cur_device):\n",
    "    cmd = f'input swipe {xSrc} {ySrc} {xDes} {yDes} {duration}'\n",
    "    print(cmd)\n",
    "    device.shell(cmd)\n",
    "    time.sleep(0.8)\n",
    "    \n",
    "def swipe_down(rep=1, dy=1500, duration=200, device=cur_device):\n",
    "    xSrc = 1000\n",
    "    ySrc = 1900\n",
    "    yDes = ySrc-dy\n",
    "    for i in range(rep):\n",
    "        swipe_xy_xy(xSrc, ySrc, xSrc, yDes)\n",
    "    \n",
    "def swipe_up(rep=1, dy=1500, duration=200, device=cur_device):\n",
    "    xSrc = 1000\n",
    "    ySrc = 200\n",
    "    yDes = ySrc+dy\n",
    "    for i in range(rep):\n",
    "        swipe_xy_xy(xSrc, ySrc, xSrc, yDes)"
   ]
  },
  {
   "cell_type": "code",
   "execution_count": 11,
   "metadata": {},
   "outputs": [],
   "source": [
    "#포케몬 기초 함수\n",
    "def poke_click_bottom_center():\n",
    "    #아래중앙 클릭\n",
    "    tap_xy(545, 1900)\n",
    "def poke_click_config():\n",
    "    #설정 클릭\n",
    "    tap_xy(1000, 200)\n",
    "def poke_click_store():\n",
    "    #상점클릭\n",
    "    tap_xy(534,1447)\n",
    "def poke_click_profile():    \n",
    "    #프로필 클릭\n",
    "    tap_xy(120, 1910)\n",
    "def poke_click_friend():\n",
    "    #프렌드 클릭\n",
    "    tap_xy(736, 127)\n",
    "def poke_sort_reset():\n",
    "    #이름순으로 리셋\n",
    "    #소팅 클릭\n",
    "    tap_xy(918, 1934)\n",
    "    #이름순 클릭\n",
    "    tap_xy(945, 966)    \n",
    "def poke_sort_get_present():\n",
    "    #소팅리셋\n",
    "    poke_sort_reset()\n",
    "    #소팅 클릭\n",
    "    tap_xy(918, 1934)\n",
    "    #선물받기순 클릭\n",
    "    tap_xy(928, 1536)\n",
    "def poke_sort_send_present():\n",
    "    #소팅리셋\n",
    "    poke_sort_reset()\n",
    "    #소팅 클릭\n",
    "    tap_xy(918, 1934)\n",
    "    #선물보내기순 클릭\n",
    "    tap_xy(940, 1738)\n",
    "def poke_first_profile_click():\n",
    "    tap_xy(378, 839)"
   ]
  },
  {
   "cell_type": "code",
   "execution_count": 12,
   "metadata": {},
   "outputs": [],
   "source": [
    "#포케몬 전용 함수\n",
    "def poke_log_out():\n",
    "    poke_click_bottom_center()\n",
    "    poke_click_config()\n",
    "    swipe_down()\n",
    "    #로그아웃 클릭\n",
    "    tap_xy(453,1563)\n",
    "    #yes 클릭\n",
    "    tap_xy(557,1032)\n",
    "def poke_log_in(id, password):\n",
    "    #다시로그인 클릭\n",
    "    tap_xy(561,1230)\n",
    "    #구글로그인\n",
    "    tap_xy(478,1071)\n",
    "    # tap_xy()\n",
    "    # tap_xy()\n",
    "    # tap_xy()\n",
    "    # tap_xy()\n",
    "    # tap_xy()\n",
    "    # tap_xy()\n",
    "    # tap_xy()\n",
    "    # tap_xy()\n",
    "    \n",
    "#상점 안에서 100 금화 구매\n",
    "def poke_buy_100(iter_num:int=5):\n",
    "    \"\"\"100골드를 사는 함수\n",
    "    iter_num = 5 / 반복횟수\n",
    "    \"\"\"\n",
    "    #중앙볼/취소 클릭\n",
    "    tap_xy(545, 1900)\n",
    "    #상점클릭\n",
    "    tap_xy(534,1447)\n",
    "    time.sleep(0.8)\n",
    "    #상점 맨 아래로 내려가기\n",
    "    for n in range(4):\n",
    "        swipe_down()\n",
    "        time.sleep(0.8)\n",
    "\n",
    "    #반복구매하기\n",
    "    for n in range(iter_num):\n",
    "        tap_xy(180,300)\n",
    "        time.sleep(4)\n",
    "        tap_xy(550, 2000)\n",
    "        time.sleep(13)\n",
    "        print(f'100골 {n+1}개 구매함. 남은 선물: {iter_num-n}')\n",
    "    poke_click_bottom_center()\n"
   ]
  },
  {
   "cell_type": "code",
   "execution_count": null,
   "metadata": {},
   "outputs": [],
   "source": [
    "#포케몬 안에서의 여러 동작 구현\n",
    "#포케몬 진화하기\n",
    "#포케몬 교환하기"
   ]
  },
  {
   "cell_type": "code",
   "execution_count": 24,
   "metadata": {},
   "outputs": [],
   "source": [
    "#선물 열기\n",
    "def poke_open_present(iter_num:int=1):\n",
    "    #프로필 클릭\n",
    "    poke_click_profile()\n",
    "    #프렌드 클릭\n",
    "    poke_click_friend()\n",
    "    \n",
    "    for n in range(iter_num):\n",
    "        #선물받기 소팅\n",
    "        poke_sort_get_present()\n",
    "        #위에서 첫번째 받을 선물 클릭\n",
    "        poke_first_profile_click()\n",
    "        #선물클릭 클릭\n",
    "        tap_xy(554,1493)\n",
    "        #연다 클릭\n",
    "        tap_xy(540, 1693)\n",
    "        #취소 3 연타\n",
    "        time.sleep(15)\n",
    "        poke_click_bottom_center()\n",
    "    poke_click_bottom_center()\n",
    "\n",
    "#선물 보내기\n",
    "def poke_send_present(iter_num:int=1):\n",
    "    #프로필 클릭\n",
    "    poke_click_profile()\n",
    "    #프렌드 클릭\n",
    "    poke_click_friend()\n",
    "    \n",
    "    for n in range(iter_num):\n",
    "        #선물보내기 소팅\n",
    "        poke_sort_send_present()\n",
    "        #위에서 첫번째 보낼 프로필 클릭\n",
    "        poke_first_profile_click()\n",
    "        #선물보내기 클릭\n",
    "        tap_xy(199,1630)\n",
    "        #첫번째 엽서 클릭\n",
    "        tap_xy(588,687)\n",
    "        #보내기 클릭\n",
    "        tap_xy(546, 1740)\n",
    "        time.sleep(2)\n",
    "        poke_click_bottom_center()\n",
    "    poke_click_bottom_center()\n",
    "        "
   ]
  },
  {
   "cell_type": "code",
   "execution_count": 96,
   "metadata": {},
   "outputs": [
    {
     "data": {
      "text/plain": [
       "''"
      ]
     },
     "execution_count": 96,
     "metadata": {},
     "output_type": "execute_result"
    }
   ],
   "source": [
    "#이름을 입력하기 위해서 전체선택, 붙여넣기 실험\n",
    "# cur_device.shell('input keyevent KEYCODE_A --longpress')\n",
    "# time.sleep(1)\n",
    "cur_device.shell('input swipe 100 200 100 200 1000')\n"
   ]
  },
  {
   "cell_type": "code",
   "execution_count": 70,
   "metadata": {},
   "outputs": [
    {
     "data": {
      "text/plain": [
       "''"
      ]
     },
     "execution_count": 70,
     "metadata": {},
     "output_type": "execute_result"
    }
   ],
   "source": [
    "#Paste\n",
    "cur_device.shell('input keyevent 279')"
   ]
  },
  {
   "cell_type": "code",
   "execution_count": null,
   "metadata": {},
   "outputs": [],
   "source": [
    "from win32gui import FindWindow, GetWindowRect\n",
    "\n",
    "# FindWindow takes the Window Class name (can be None if unknown), and the window's display text. \n",
    "window_handle = FindWindow(None, \"kakaotalk.exe\")\n",
    "print(window_handle)\n",
    "window_rect   = GetWindowRect(window_handle)\n",
    "\n",
    "print(window_rect)\n",
    "#(0, 0, 800, 600)"
   ]
  },
  {
   "cell_type": "code",
   "execution_count": 32,
   "metadata": {},
   "outputs": [],
   "source": [
    "def GetWindowRectFromName(name:str)-> tuple:\n",
    "    hwnd = ctypes.windll.user32.FindWindowW(0, name)\n",
    "    rect = ctypes.wintypes.RECT()\n",
    "    ctypes.windll.user32.GetWindowRect(hwnd, ctypes.pointer(rect))\n",
    "    # print(hwnd)\n",
    "    # print(rect)\n",
    "    return (rect.left, rect.top, rect.right, rect.bottom)"
   ]
  },
  {
   "cell_type": "code",
   "execution_count": 34,
   "metadata": {},
   "outputs": [
    {
     "ename": "NameError",
     "evalue": "name 'ctypes' is not defined",
     "output_type": "error",
     "traceback": [
      "\u001b[1;31m---------------------------------------------------------------------------\u001b[0m",
      "\u001b[1;31mNameError\u001b[0m                                 Traceback (most recent call last)",
      "Cell \u001b[1;32mIn[34], line 1\u001b[0m\n\u001b[1;32m----> 1\u001b[0m \u001b[39mprint\u001b[39m(GetWindowRectFromName(\u001b[39m'\u001b[39;49m\u001b[39mCALC\u001b[39;49m\u001b[39m'\u001b[39;49m))\n",
      "Cell \u001b[1;32mIn[32], line 2\u001b[0m, in \u001b[0;36mGetWindowRectFromName\u001b[1;34m(name)\u001b[0m\n\u001b[0;32m      1\u001b[0m \u001b[39mdef\u001b[39;00m \u001b[39mGetWindowRectFromName\u001b[39m(name:\u001b[39mstr\u001b[39m)\u001b[39m-\u001b[39m\u001b[39m>\u001b[39m \u001b[39mtuple\u001b[39m:\n\u001b[1;32m----> 2\u001b[0m     hwnd \u001b[39m=\u001b[39m ctypes\u001b[39m.\u001b[39mwindll\u001b[39m.\u001b[39muser32\u001b[39m.\u001b[39mFindWindowW(\u001b[39m0\u001b[39m, name)\n\u001b[0;32m      3\u001b[0m     rect \u001b[39m=\u001b[39m ctypes\u001b[39m.\u001b[39mwintypes\u001b[39m.\u001b[39mRECT()\n\u001b[0;32m      4\u001b[0m     ctypes\u001b[39m.\u001b[39mwindll\u001b[39m.\u001b[39muser32\u001b[39m.\u001b[39mGetWindowRect(hwnd, ctypes\u001b[39m.\u001b[39mpointer(rect))\n",
      "\u001b[1;31mNameError\u001b[0m: name 'ctypes' is not defined"
     ]
    }
   ],
   "source": [
    "print(GetWindowRectFromName('CALC'))"
   ]
  },
  {
   "cell_type": "code",
   "execution_count": 35,
   "metadata": {},
   "outputs": [
    {
     "name": "stdout",
     "output_type": "stream",
     "text": [
      "(-7, -7, 1926, 1038)\n"
     ]
    }
   ],
   "source": [
    "from win32gui import GetWindowText, GetForegroundWindow\n",
    "print(GetWindowRect(GetForegroundWindow()))"
   ]
  }
 ],
 "metadata": {
  "kernelspec": {
   "display_name": "py311",
   "language": "python",
   "name": "python3"
  },
  "language_info": {
   "codemirror_mode": {
    "name": "ipython",
    "version": 3
   },
   "file_extension": ".py",
   "mimetype": "text/x-python",
   "name": "python",
   "nbconvert_exporter": "python",
   "pygments_lexer": "ipython3",
   "version": "3.11.0"
  },
  "orig_nbformat": 4
 },
 "nbformat": 4,
 "nbformat_minor": 2
}
