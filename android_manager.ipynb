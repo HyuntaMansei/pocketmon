{
 "cells": [
  {
   "cell_type": "code",
   "execution_count": null,
   "metadata": {},
   "outputs": [],
   "source": [
    "import time\n",
    "from ppadb.client import Client as AdbClient\n",
    "from com.dtmilano.android.viewclient import ViewClient"
   ]
  },
  {
   "cell_type": "code",
   "execution_count": 11,
   "metadata": {},
   "outputs": [],
   "source": [
    "#client접속\n",
    "client_conf = dict(host = 'localhost', port = 5037)\n",
    "cur_client = AdbClient(**client_conf)\n",
    "#디바이스를 하나만 연결할 경우. \n",
    "cur_device = cur_client.devices()[0]"
   ]
  },
  {
   "cell_type": "code",
   "execution_count": 12,
   "metadata": {},
   "outputs": [
    {
     "data": {
      "text/plain": [
       "''"
      ]
     },
     "execution_count": 12,
     "metadata": {},
     "output_type": "execute_result"
    }
   ],
   "source": [
    "#홈버튼 클릭\n",
    "press_home()\n",
    "#홈화면 > 포케몬 실행(터치)\n",
    "vc = ViewClient(*ViewClient.connectToDeviceOrExit())\n",
    "# vc.traverse()\n",
    "vc.findViewWithText(\"Pokémon GO\").touch()"
   ]
  },
  {
   "cell_type": "code",
   "execution_count": 20,
   "metadata": {},
   "outputs": [],
   "source": [
    "press_home()"
   ]
  },
  {
   "cell_type": "code",
   "execution_count": 41,
   "metadata": {},
   "outputs": [],
   "source": [
    "#안드로이드 공통 함수\n",
    "#홈버튼 누르기\n",
    "def press_home(device=cur_device):\n",
    "    cmd = 'input keyevent KEYCODE_HOME'\n",
    "    device.shell(cmd)\n",
    "    \n",
    "#뒤로가기 누르기\n",
    "def press_back(device=cur_device):\n",
    "    cmd = 'input keyevent KEYCODE_BACK'\n",
    "    print(cmd)\n",
    "    device.shell(cmd)\n",
    "    \n",
    "def tap_xy(x:int, y:int, device=cur_device):\n",
    "    cmd = f'input touchscreen tap {x} {y}'\n",
    "    print(cmd)\n",
    "    device.shell(cmd)\n",
    "    \n",
    "def swipe_xy_xy(xSrc, ySrc, xDes, yDes, duration=200, device=cur_device):\n",
    "    cmd = f'input swipe {xSrc} {ySrc} {xDes} {yDes} {duration}'\n",
    "    print(cmd)\n",
    "    device.shell(cmd)\n",
    "    \n",
    "def swipe_down(dy=1500, duration=200, device=cur_device):\n",
    "    xSrc = 1000\n",
    "    ySrc = 1900\n",
    "    yDes = ySrc-dy\n",
    "    swipe_xy_xy(xSrc, ySrc, xSrc, yDes)\n",
    "    \n",
    "def swipe_up(dy=1500, duration=200, device=cur_device):\n",
    "    xSrc = 1000\n",
    "    ySrc = 200\n",
    "    yDes = ySrc+dy\n",
    "    swipe_xy_xy(xSrc, ySrc, xSrc, yDes)"
   ]
  },
  {
   "cell_type": "code",
   "execution_count": null,
   "metadata": {},
   "outputs": [],
   "source": [
    "#포케몬 전용 함수\n",
    "\n",
    "#상점 안에서 100 금화 구매\n",
    "def poke_buy_100(device=cur_device):\n",
    "    "
   ]
  },
  {
   "cell_type": "code",
   "execution_count": null,
   "metadata": {},
   "outputs": [],
   "source": [
    "#포케몬 안에서의 여러 동작 구현\n",
    "#홈화면 이동 > screen capture가 필요할 듯. 뒤로가기 버튼으로 구현하는 것이 쉬울 듯\n",
    "#상점 안에서 100금화 구매\n",
    "#def buy_100(iter_num:int=5):\n",
    "#선물 열기\n",
    "#def open_present(iter_num=5):\n",
    "#선물 보내기\n",
    "#포케몬 교환하기"
   ]
  },
  {
   "cell_type": "code",
   "execution_count": null,
   "metadata": {},
   "outputs": [],
   "source": [
    "def buy_100(iter_num:int=5):\n",
    "    \"\"\"100골드를 사는 함수\n",
    "    iter_num = 5 / 반복횟수\n",
    "    \"\"\"\n",
    "    tap_xy(545, 1900)\n",
    "    time.sleep(0.5)\n",
    "    tap_xy(534,1447)\n",
    "    time.sleep(1)\n",
    "    for n in range(4):\n",
    "        swipe_down()\n",
    "        time.sleep(1)\n",
    "    for n in range(iter_num):\n",
    "        tap_xy(180,300)\n",
    "        time.sleep(4)\n",
    "        tap_xy(550, 2000)"
   ]
  },
  {
   "cell_type": "code",
   "execution_count": null,
   "metadata": {},
   "outputs": [],
   "source": []
  },
  {
   "cell_type": "code",
   "execution_count": null,
   "metadata": {},
   "outputs": [],
   "source": [
    "def open_present(iter_num):\n",
    "    #프로필\n",
    "    tap_xy(120, 1910)\n",
    "    #프렌드\n",
    "    tap_xy(736, 127)\n",
    "    #소팅\n",
    "    tap_xy(918, 1934)\n",
    "    #이름순\n",
    "    tap_xy(945, 966)\n",
    "    #소팅\n",
    "    tap_xy(918, 1934)\n",
    "    #선물받기순\n",
    "    tap_xy(928, 1536)\n",
    "    #받기클릭\n",
    "    tap_xy(378, 839)\n",
    "    #선물클릭\n",
    "    tap_xy(554,1493)\n",
    "    #연다\n",
    "    tap_xy(540, 1693)\n",
    "    #취소 3 연타\n",
    "    tap_xy(544, 1923)\n",
    "    tap_xy(544, 1923)\n",
    "    tap_xy(544, 1923)\n",
    "    for iter_num \n",
    "    #소팅\n",
    "    tap_xy(918, 1934)\n",
    "    #선물받기순\n",
    "    tap_xy(928, 1536)\n",
    "    #소팅\n",
    "    tap_xy(918, 1934)\n",
    "    #선물받기순\n",
    "    tap_xy(928, 1536)\n",
    "    \n",
    "    \n",
    "    \n",
    "    \n",
    "    tap_xy()\n",
    "    tap_xy()  \n",
    "    tap_xy()\n",
    "    tap_xy()\n",
    "    tap_xy()\n",
    "    tap_xy()\n",
    "    tap_xy()\n",
    "    "
   ]
  }
 ],
 "metadata": {
  "kernelspec": {
   "display_name": "py311",
   "language": "python",
   "name": "python3"
  },
  "language_info": {
   "codemirror_mode": {
    "name": "ipython",
    "version": 3
   },
   "file_extension": ".py",
   "mimetype": "text/x-python",
   "name": "python",
   "nbconvert_exporter": "python",
   "pygments_lexer": "ipython3",
   "version": "3.11.0"
  },
  "orig_nbformat": 4
 },
 "nbformat": 4,
 "nbformat_minor": 2
}
