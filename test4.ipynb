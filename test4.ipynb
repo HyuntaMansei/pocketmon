{
 "cells": [
  {
   "cell_type": "code",
   "execution_count": 2,
   "metadata": {},
   "outputs": [],
   "source": [
    "from IPython.core.interactiveshell import InteractiveShell\n",
    "InteractiveShell.ast_node_interactivity = 'all'\n",
    "import pandas as pd\n",
    "import numpy as np\n",
    "import time\n",
    "import requests\n",
    "from bs4 import BeautifulSoup\n",
    "import importlib\n",
    "import configparser\n",
    "import pymysql"
   ]
  },
  {
   "cell_type": "code",
   "execution_count": null,
   "metadata": {},
   "outputs": [],
   "source": [
    "base_url = 'https://pokemongo.inven.co.kr/dataninfo/pokemon/'\n",
    "base_soup = BeautifulSoup(requests.get(base_url).text, 'html.parser')\n",
    "detail_urls = ['https://pokemongo.inven.co.kr'+a['href'] for a in base_soup.select('#pokemongoList > ul > li > a')]"
   ]
  },
  {
   "cell_type": "code",
   "execution_count": 59,
   "metadata": {},
   "outputs": [],
   "source": [
    "iter_num = 0\n",
    "poke_info_dic = {}\n",
    "poke_info_element_list_for_db = [\n",
    "        '포케몬넘버', '포케몬이름', '이미지url', '타입1', '타입2', '단일타입', '진화사탕', '진화비용', '최대 CP', '공격력', '방어력', \n",
    "        '체력', '포획 확률', '노말', '격투', '비행', '독', '땅', '바위', '벌레', '고스트', '강철', '불꽃', '물', '풀', '전기', \n",
    "        '에스퍼', '얼음', '드래곤', '악', '페어리', '진화단계', '최종진화']\n",
    "poke_type_match_element_list = ['노말', '격투', '비행', '독', '땅', '바위', '벌레', '고스트', '강철', '불꽃', '물', '풀', '전기', '에스퍼', '얼음', '드래곤', '악', '페어리']\n",
    "\n",
    "for each_url in detail_urls:\n",
    "    detail_soup = BeautifulSoup(requests.get(each_url).text,'html.parser')\n",
    "    # detail_soup\n",
    "    poke_info = {}\n",
    "    \n",
    "    title_text = detail_soup.select_one('#articleView > div.articleContent > h1').get_text()\n",
    "    poke_info['포케몬넘버'] = title_text.split('.')[0].strip()\n",
    "    poke_info['포케몬이름'] = title_text.split('.')[1].strip()\n",
    "    \n",
    "    poke_info['이미지url'] = 'http:'+detail_soup.select_one('#articleView > div.articleContent > div.pokemonimage > img')['src']\n",
    "    poke_type_text = detail_soup.select_one('#articleView > div.articleContent > div.pokemontype > ul > li.poekmontype').get_text()\n",
    "    poke_info['타입1'] = poke_type_text.split()[0].strip()\n",
    "    try:\n",
    "        poke_info['타입2'] = poke_type_text.split()[1].strip()\n",
    "        poke_info['단일타입'] = 'n'\n",
    "    except:\n",
    "        poke_info['타입2'] = ''\n",
    "        poke_info['단일타입'] = 'y'\n",
    "    try:\n",
    "        poke_info['진화사탕'] = 'http:'+detail_soup.select_one('#articleView > div.articleContent > div.pokemontype > ul > li.last.evolvecandy > img')['src']\n",
    "        poke_info['진화비용'] = detail_soup.select_one('#articleView > div.articleContent > div.pokemontype > ul > li.last.evolvecandy').get_text()        \n",
    "    except:\n",
    "        poke_info['진화사탕'] = ''\n",
    "        poke_info['진화비용'] = '0'\n",
    "    stat_soup = detail_soup.select_one('#articleView > div.articleContent > div.pokemontype > ul > li:nth-child(6)')\n",
    "    poke_info['최대 CP'] = stat_soup.get_text()\n",
    "    stat_soup = stat_soup.find_next_sibling().find_next_sibling()\n",
    "    poke_info['공격력'] = stat_soup.get_text()\n",
    "    stat_soup = stat_soup.find_next_sibling().find_next_sibling()\n",
    "    poke_info['방어력'] = stat_soup.get_text()\n",
    "    stat_soup = stat_soup.find_next_sibling().find_next_sibling()\n",
    "    poke_info['체력'] = stat_soup.get_text()\n",
    "    stat_soup = stat_soup.find_next_sibling().find_next_sibling()\n",
    "    poke_info['포획 확률'] = stat_soup.get_text()\n",
    "    \n",
    "    match_soup = detail_soup.select_one('#articleView > div.articleContent > div.wrapContent > div.typeData > table > thead')\n",
    "    th_texts = [th.get_text() for th in match_soup.find_all('th')]\n",
    "    td_texts = [td.get_text() for td in match_soup.find_all('td')]\n",
    "    poke_info['상성'] = dict(zip(th_texts, td_texts))\n",
    "    \n",
    "    evol_soup = detail_soup.select_one('#articleView > div.articleContent > div.groupList > ul')\n",
    "    evol_step = 1\n",
    "    evol_name_list = []\n",
    "    evol_step_list = []\n",
    "    for li in evol_soup.find_all('li'):\n",
    "        if li.has_attr('class'):\n",
    "            # arrow\n",
    "            evol_step += 1\n",
    "        else:\n",
    "            # pokemon\n",
    "            temp_name = li.select_one('span > a').get_text().split('.')[1].strip()\n",
    "            if poke_info['포케몬이름'] == temp_name:\n",
    "                poke_info['진화단계'] = evol_step\n",
    "            evol_name_list.append(temp_name)\n",
    "            evol_step_list.append(evol_step)\n",
    "    poke_info['진화'] = list(zip(evol_step_list, evol_name_list))\n",
    "    if poke_info['진화단계'] == str(evol_step):\n",
    "        poke_info['최종진화'] = 'y'\n",
    "    else:\n",
    "        poke_info['최종진화'] = 'n'\n",
    "    \n",
    "    poke_info_dic[poke_info['포케몬이름']] = poke_info\n",
    "    \n",
    "    iter_num += 1\n",
    "    # if iter_num > 5:\n",
    "    #     break\n",
    "    time.sleep(0.5)"
   ]
  },
  {
   "cell_type": "code",
   "execution_count": 83,
   "metadata": {},
   "outputs": [
    {
     "data": {
      "text/plain": [
       "712"
      ]
     },
     "execution_count": 83,
     "metadata": {},
     "output_type": "execute_result"
    },
    {
     "data": {
      "text/plain": [
       "dict_keys(['노말', '격투', '비행', '독', '땅', '바위', '벌레', '고스트', '강철', '불꽃', '물', '풀', '전기', '에스퍼', '얼음', '드래곤', '악', '페어리'])"
      ]
     },
     "execution_count": 83,
     "metadata": {},
     "output_type": "execute_result"
    }
   ],
   "source": [
    "len(poke_info_dic.keys())\n",
    "poke_info_dic['이브이']['상성'].keys()"
   ]
  },
  {
   "cell_type": "code",
   "execution_count": 120,
   "metadata": {},
   "outputs": [
    {
     "data": {
      "text/plain": [
       "['c:\\\\Users\\\\jchoi\\\\Coding\\\\python\\\\ignore\\\\config.ini']"
      ]
     },
     "execution_count": 120,
     "metadata": {},
     "output_type": "execute_result"
    }
   ],
   "source": [
    "import os\n",
    "import pathlib\n",
    "\n",
    "conf_path = os.path.dirname(pathlib.Path.cwd()) + f'\\ignore\\config.ini'\n",
    "conf = configparser.ConfigParser()\n",
    "conf.read(conf_path)\n",
    "db_conf = dict(conf['POKEMON_DB_CONFIG'])\n",
    "db_conf['port'] = int(db_conf['port'])\n",
    "conx = pymysql.connect(**db_conf)\n",
    "cur = conx.cursor()"
   ]
  },
  {
   "cell_type": "code",
   "execution_count": 87,
   "metadata": {},
   "outputs": [],
   "source": [
    "poke_info_element_list_for_db = [\n",
    "        '포케몬넘버', '포케몬이름', '이미지url', '타입1', '타입2', '단일타입', '진화사탕', '진화비용', '최대 CP', '공격력', '방어력', \n",
    "        '체력', '포획 확률', '노말', '격투', '비행', '독', '땅', '바위', '벌레', '고스트', '강철', '불꽃', '물', '풀', '전기', \n",
    "        '에스퍼', '얼음', '드래곤', '악', '페어리', '진화단계', '최종진화']"
   ]
  },
  {
   "cell_type": "code",
   "execution_count": null,
   "metadata": {},
   "outputs": [],
   "source": [
    "a = ['포케몬넘버', '포케몬이름']\n",
    "b = ['3', '재미니']\n",
    "insert_into_tb(cur, 'pokemon_info_tb', a, b)"
   ]
  },
  {
   "cell_type": "code",
   "execution_count": 132,
   "metadata": {},
   "outputs": [
    {
     "name": "stdout",
     "output_type": "stream",
     "text": [
      "insert into pokemon_info_tb (`포케몬넘버`,`포케몬이름`,`이미지url`,`타입1`,`타입2`,`단일타입`,`진화사탕`,`진화비용`,`최대 CP`,`공격력`,`방어력`,`체력`,`포획 확률`,`노말`,`격투`,`비행`,`독`,`땅`,`바위`,`벌레`,`고스트`,`강철`,`불꽃`,`물`,`풀`,`전기`,`에스퍼`,`얼음`,`드래곤`,`악`,`페어리`,`진화단계`,`최종진화`)\n",
      "    values('1','이상해씨','http://static.inven.co.kr/image_2011/site_image/pokemongo/pokemonimage/pokemon_001.png?v=20181121a','풀','독','n','http://static.inven.co.kr/image_2011/pokemongo/dataninfo/pokemon/evolvecandy_20x20.png','25','1115','118','111','128','20%',' - ','0.625','1.6',' - ',' - ',' - ',' - ',' - ',' - ','1.6','0.625','0.391','0.625','1.6','1.6',' - ',' - ','0.625','1','n');\n"
     ]
    },
    {
     "ename": "DataError",
     "evalue": "(1366, \"Incorrect double value: ' - ' for column `pokemon`.`pokemon_info_tb`.`노말` at row 1\")",
     "output_type": "error",
     "traceback": [
      "\u001b[1;31m---------------------------------------------------------------------------\u001b[0m",
      "\u001b[1;31mDataError\u001b[0m                                 Traceback (most recent call last)",
      "Cell \u001b[1;32mIn[132], line 5\u001b[0m\n\u001b[0;32m      3\u001b[0m temp_data\u001b[39m.\u001b[39mupdate(temp_data[\u001b[39m'\u001b[39m\u001b[39m상성\u001b[39m\u001b[39m'\u001b[39m])\n\u001b[0;32m      4\u001b[0m poke_data \u001b[39m=\u001b[39m [\u001b[39mstr\u001b[39m(temp_data[e]) \u001b[39mfor\u001b[39;00m e \u001b[39min\u001b[39;00m poke_info_element_list_for_db]\n\u001b[1;32m----> 5\u001b[0m insert_into_tb(cur, \u001b[39m'\u001b[39;49m\u001b[39mpokemon_info_tb\u001b[39;49m\u001b[39m'\u001b[39;49m, poke_info_element_list_for_db, poke_data)\n",
      "Cell \u001b[1;32mIn[123], line 7\u001b[0m, in \u001b[0;36minsert_into_tb\u001b[1;34m(cur, table_name, insert_columns, data_list)\u001b[0m\n\u001b[0;32m      4\u001b[0m sql \u001b[39m=\u001b[39m \u001b[39mf\u001b[39m\u001b[39m\"\"\"\u001b[39m\u001b[39minsert into \u001b[39m\u001b[39m{\u001b[39;00mtable_name\u001b[39m}\u001b[39;00m\u001b[39m (\u001b[39m\u001b[39m{\u001b[39;00m\u001b[39m'\u001b[39m\u001b[39m,\u001b[39m\u001b[39m'\u001b[39m\u001b[39m.\u001b[39mjoin(wrapped_insert_columns)\u001b[39m}\u001b[39;00m\u001b[39m)\u001b[39m\n\u001b[0;32m      5\u001b[0m \u001b[39mvalues(\u001b[39m\u001b[39m{\u001b[39;00m\u001b[39m'\u001b[39m\u001b[39m,\u001b[39m\u001b[39m'\u001b[39m\u001b[39m.\u001b[39mjoin(wrapped_data_list)\u001b[39m}\u001b[39;00m\u001b[39m);\u001b[39m\u001b[39m\"\"\"\u001b[39m\n\u001b[0;32m      6\u001b[0m \u001b[39mprint\u001b[39m(sql)\n\u001b[1;32m----> 7\u001b[0m cur\u001b[39m.\u001b[39;49mexecute(sql)\n",
      "File \u001b[1;32mc:\\Users\\jchoi\\anaconda3\\envs\\py311\\Lib\\site-packages\\pymysql\\cursors.py:148\u001b[0m, in \u001b[0;36mCursor.execute\u001b[1;34m(self, query, args)\u001b[0m\n\u001b[0;32m    144\u001b[0m     \u001b[39mpass\u001b[39;00m\n\u001b[0;32m    146\u001b[0m query \u001b[39m=\u001b[39m \u001b[39mself\u001b[39m\u001b[39m.\u001b[39mmogrify(query, args)\n\u001b[1;32m--> 148\u001b[0m result \u001b[39m=\u001b[39m \u001b[39mself\u001b[39;49m\u001b[39m.\u001b[39;49m_query(query)\n\u001b[0;32m    149\u001b[0m \u001b[39mself\u001b[39m\u001b[39m.\u001b[39m_executed \u001b[39m=\u001b[39m query\n\u001b[0;32m    150\u001b[0m \u001b[39mreturn\u001b[39;00m result\n",
      "File \u001b[1;32mc:\\Users\\jchoi\\anaconda3\\envs\\py311\\Lib\\site-packages\\pymysql\\cursors.py:310\u001b[0m, in \u001b[0;36mCursor._query\u001b[1;34m(self, q)\u001b[0m\n\u001b[0;32m    308\u001b[0m \u001b[39mself\u001b[39m\u001b[39m.\u001b[39m_last_executed \u001b[39m=\u001b[39m q\n\u001b[0;32m    309\u001b[0m \u001b[39mself\u001b[39m\u001b[39m.\u001b[39m_clear_result()\n\u001b[1;32m--> 310\u001b[0m conn\u001b[39m.\u001b[39;49mquery(q)\n\u001b[0;32m    311\u001b[0m \u001b[39mself\u001b[39m\u001b[39m.\u001b[39m_do_get_result()\n\u001b[0;32m    312\u001b[0m \u001b[39mreturn\u001b[39;00m \u001b[39mself\u001b[39m\u001b[39m.\u001b[39mrowcount\n",
      "File \u001b[1;32mc:\\Users\\jchoi\\anaconda3\\envs\\py311\\Lib\\site-packages\\pymysql\\connections.py:548\u001b[0m, in \u001b[0;36mConnection.query\u001b[1;34m(self, sql, unbuffered)\u001b[0m\n\u001b[0;32m    546\u001b[0m     sql \u001b[39m=\u001b[39m sql\u001b[39m.\u001b[39mencode(\u001b[39mself\u001b[39m\u001b[39m.\u001b[39mencoding, \u001b[39m\"\u001b[39m\u001b[39msurrogateescape\u001b[39m\u001b[39m\"\u001b[39m)\n\u001b[0;32m    547\u001b[0m \u001b[39mself\u001b[39m\u001b[39m.\u001b[39m_execute_command(COMMAND\u001b[39m.\u001b[39mCOM_QUERY, sql)\n\u001b[1;32m--> 548\u001b[0m \u001b[39mself\u001b[39m\u001b[39m.\u001b[39m_affected_rows \u001b[39m=\u001b[39m \u001b[39mself\u001b[39;49m\u001b[39m.\u001b[39;49m_read_query_result(unbuffered\u001b[39m=\u001b[39;49munbuffered)\n\u001b[0;32m    549\u001b[0m \u001b[39mreturn\u001b[39;00m \u001b[39mself\u001b[39m\u001b[39m.\u001b[39m_affected_rows\n",
      "File \u001b[1;32mc:\\Users\\jchoi\\anaconda3\\envs\\py311\\Lib\\site-packages\\pymysql\\connections.py:775\u001b[0m, in \u001b[0;36mConnection._read_query_result\u001b[1;34m(self, unbuffered)\u001b[0m\n\u001b[0;32m    773\u001b[0m \u001b[39melse\u001b[39;00m:\n\u001b[0;32m    774\u001b[0m     result \u001b[39m=\u001b[39m MySQLResult(\u001b[39mself\u001b[39m)\n\u001b[1;32m--> 775\u001b[0m     result\u001b[39m.\u001b[39;49mread()\n\u001b[0;32m    776\u001b[0m \u001b[39mself\u001b[39m\u001b[39m.\u001b[39m_result \u001b[39m=\u001b[39m result\n\u001b[0;32m    777\u001b[0m \u001b[39mif\u001b[39;00m result\u001b[39m.\u001b[39mserver_status \u001b[39mis\u001b[39;00m \u001b[39mnot\u001b[39;00m \u001b[39mNone\u001b[39;00m:\n",
      "File \u001b[1;32mc:\\Users\\jchoi\\anaconda3\\envs\\py311\\Lib\\site-packages\\pymysql\\connections.py:1156\u001b[0m, in \u001b[0;36mMySQLResult.read\u001b[1;34m(self)\u001b[0m\n\u001b[0;32m   1154\u001b[0m \u001b[39mdef\u001b[39;00m \u001b[39mread\u001b[39m(\u001b[39mself\u001b[39m):\n\u001b[0;32m   1155\u001b[0m     \u001b[39mtry\u001b[39;00m:\n\u001b[1;32m-> 1156\u001b[0m         first_packet \u001b[39m=\u001b[39m \u001b[39mself\u001b[39;49m\u001b[39m.\u001b[39;49mconnection\u001b[39m.\u001b[39;49m_read_packet()\n\u001b[0;32m   1158\u001b[0m         \u001b[39mif\u001b[39;00m first_packet\u001b[39m.\u001b[39mis_ok_packet():\n\u001b[0;32m   1159\u001b[0m             \u001b[39mself\u001b[39m\u001b[39m.\u001b[39m_read_ok_packet(first_packet)\n",
      "File \u001b[1;32mc:\\Users\\jchoi\\anaconda3\\envs\\py311\\Lib\\site-packages\\pymysql\\connections.py:725\u001b[0m, in \u001b[0;36mConnection._read_packet\u001b[1;34m(self, packet_type)\u001b[0m\n\u001b[0;32m    723\u001b[0m     \u001b[39mif\u001b[39;00m \u001b[39mself\u001b[39m\u001b[39m.\u001b[39m_result \u001b[39mis\u001b[39;00m \u001b[39mnot\u001b[39;00m \u001b[39mNone\u001b[39;00m \u001b[39mand\u001b[39;00m \u001b[39mself\u001b[39m\u001b[39m.\u001b[39m_result\u001b[39m.\u001b[39munbuffered_active \u001b[39mis\u001b[39;00m \u001b[39mTrue\u001b[39;00m:\n\u001b[0;32m    724\u001b[0m         \u001b[39mself\u001b[39m\u001b[39m.\u001b[39m_result\u001b[39m.\u001b[39munbuffered_active \u001b[39m=\u001b[39m \u001b[39mFalse\u001b[39;00m\n\u001b[1;32m--> 725\u001b[0m     packet\u001b[39m.\u001b[39;49mraise_for_error()\n\u001b[0;32m    726\u001b[0m \u001b[39mreturn\u001b[39;00m packet\n",
      "File \u001b[1;32mc:\\Users\\jchoi\\anaconda3\\envs\\py311\\Lib\\site-packages\\pymysql\\protocol.py:221\u001b[0m, in \u001b[0;36mMysqlPacket.raise_for_error\u001b[1;34m(self)\u001b[0m\n\u001b[0;32m    219\u001b[0m \u001b[39mif\u001b[39;00m DEBUG:\n\u001b[0;32m    220\u001b[0m     \u001b[39mprint\u001b[39m(\u001b[39m\"\u001b[39m\u001b[39merrno =\u001b[39m\u001b[39m\"\u001b[39m, errno)\n\u001b[1;32m--> 221\u001b[0m err\u001b[39m.\u001b[39;49mraise_mysql_exception(\u001b[39mself\u001b[39;49m\u001b[39m.\u001b[39;49m_data)\n",
      "File \u001b[1;32mc:\\Users\\jchoi\\anaconda3\\envs\\py311\\Lib\\site-packages\\pymysql\\err.py:143\u001b[0m, in \u001b[0;36mraise_mysql_exception\u001b[1;34m(data)\u001b[0m\n\u001b[0;32m    141\u001b[0m \u001b[39mif\u001b[39;00m errorclass \u001b[39mis\u001b[39;00m \u001b[39mNone\u001b[39;00m:\n\u001b[0;32m    142\u001b[0m     errorclass \u001b[39m=\u001b[39m InternalError \u001b[39mif\u001b[39;00m errno \u001b[39m<\u001b[39m \u001b[39m1000\u001b[39m \u001b[39melse\u001b[39;00m OperationalError\n\u001b[1;32m--> 143\u001b[0m \u001b[39mraise\u001b[39;00m errorclass(errno, errval)\n",
      "\u001b[1;31mDataError\u001b[0m: (1366, \"Incorrect double value: ' - ' for column `pokemon`.`pokemon_info_tb`.`노말` at row 1\")"
     ]
    }
   ],
   "source": [
    "for poke in poke_info_dic.keys():\n",
    "    temp_data = (poke_info_dic[poke])\n",
    "    temp_data.update(temp_data['상성'])\n",
    "    poke_data = [str(temp_data[e]) for e in poke_info_element_list_for_db]\n",
    "    insert_into_tb(cur, 'pokemon_info_tb', poke_info_element_list_for_db, poke_data)"
   ]
  },
  {
   "cell_type": "markdown",
   "metadata": {},
   "source": []
  },
  {
   "cell_type": "code",
   "execution_count": 123,
   "metadata": {},
   "outputs": [],
   "source": [
    "def insert_into_tb(cur: pymysql.Connection.cursor, table_name: str, insert_columns: list, data_list: list):\n",
    "    wrapped_insert_columns = ['`'+v+'`' for v in insert_columns]\n",
    "    wrapped_data_list = ['\\''+v+'\\'' for v in data_list]\n",
    "    sql = f\"\"\"insert into {table_name} ({','.join(wrapped_insert_columns)})\n",
    "    values({','.join(wrapped_data_list)});\"\"\"\n",
    "    print(sql)\n",
    "    cur.execute(sql)"
   ]
  },
  {
   "cell_type": "code",
   "execution_count": null,
   "metadata": {},
   "outputs": [],
   "source": [
    "cur = conx.cursor()\n",
    "cur.execute('show tables')"
   ]
  },
  {
   "cell_type": "code",
   "execution_count": 124,
   "metadata": {},
   "outputs": [],
   "source": [
    "conx.commit()"
   ]
  },
  {
   "cell_type": "code",
   "execution_count": 68,
   "metadata": {},
   "outputs": [
    {
     "name": "stdout",
     "output_type": "stream",
     "text": [
      "insert into pokemon_tb (a,b)\n",
      "    values(1,2);\n"
     ]
    }
   ],
   "source": [
    "insert_into_tb(None, \"pokemon_tb\", [\"a\", \"b\"], [\"1\", \"2\"])"
   ]
  },
  {
   "cell_type": "code",
   "execution_count": 117,
   "metadata": {},
   "outputs": [],
   "source": [
    "conx.close()"
   ]
  }
 ],
 "metadata": {
  "kernelspec": {
   "display_name": "py311",
   "language": "python",
   "name": "python3"
  },
  "language_info": {
   "codemirror_mode": {
    "name": "ipython",
    "version": 3
   },
   "file_extension": ".py",
   "mimetype": "text/x-python",
   "name": "python",
   "nbconvert_exporter": "python",
   "pygments_lexer": "ipython3",
   "version": "3.11.0"
  },
  "orig_nbformat": 4
 },
 "nbformat": 4,
 "nbformat_minor": 2
}
