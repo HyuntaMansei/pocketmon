{
 "cells": [
  {
   "cell_type": "code",
   "execution_count": null,
   "metadata": {},
   "outputs": [],
   "source": [
    "import psutil\n",
    "\n",
    "# Iterate over all running processes\n",
    "for proc in psutil.process_iter(['pid', 'name']):\n",
    "    try:\n",
    "        # Get process name and print it\n",
    "        process_name = proc.name()\n",
    "        print(proc.pid, \" / \", process_name)\n",
    "    except (psutil.NoSuchProcess, psutil.AccessDenied, psutil.ZombieProcess):\n",
    "        pass"
   ]
  },
  {
   "cell_type": "code",
   "execution_count": 30,
   "metadata": {},
   "outputs": [
    {
     "name": "stdout",
     "output_type": "stream",
     "text": [
      "1574430\n",
      "Window size of 01) EnumWindows - 레벨업 파이썬 - Chrome is 1936 x 1048\n"
     ]
    }
   ],
   "source": [
    "import win32gui\n",
    "\n",
    "# Define the process name you want to get the window size for\n",
    "process_name = \"01) EnumWindows - 레벨업 파이썬 - Chrome\"\n",
    "\n",
    "# Find the window handle for the process\n",
    "window_handle = win32gui.FindWindow(None, process_name)\n",
    "print(window_handle)\n",
    "# Get the size of the window\n",
    "rect = win32gui.GetWindowRect(window_handle)\n",
    "window_width = rect[2] - rect[0]\n",
    "window_height = rect[3] - rect[1]\n",
    "\n",
    "# Print the window size\n",
    "print(\"Window size of\", process_name, \"is\", window_width, \"x\", window_height)"
   ]
  },
  {
   "cell_type": "code",
   "execution_count": 21,
   "metadata": {},
   "outputs": [
    {
     "name": "stdout",
     "output_type": "stream",
     "text": [
      "Window handle: 1574430 Title: 01) EnumWindows - 레벨업 파이썬 - Chrome\n"
     ]
    },
    {
     "data": {
      "text/plain": [
       "[1574430]"
      ]
     },
     "execution_count": 21,
     "metadata": {},
     "output_type": "execute_result"
    }
   ],
   "source": [
    "import win32gui\n",
    "\n",
    "# Define the process name you want to get the window size for\n",
    "process_name = \"chrome\"\n",
    "\n",
    "# Define a callback function for EnumWindows()\n",
    "def callback(hwnd, extra):\n",
    "    if win32gui.IsWindowVisible(hwnd):\n",
    "        if process_name.lower() in win32gui.GetWindowText(hwnd).lower():\n",
    "            print(\"Window handle:\", hwnd, \"Title:\", win32gui.GetWindowText(hwnd))\n",
    "            extra.append(hwnd)\n",
    "        # print(\"Window handle:\", hwnd, \"Title:\", win32gui.GetWindowText(hwnd))\n",
    "            \n",
    "# Enumerate all top-level windows and print their titles and handles\n",
    "wins = []\n",
    "win32gui.EnumWindows(callback, wins)\n",
    "wins"
   ]
  },
  {
   "cell_type": "code",
   "execution_count": null,
   "metadata": {},
   "outputs": [],
   "source": [
    "import win32gui\n",
    "\n",
    "def window_enumeration_handler(hwnd, top_windows):\n",
    "    top_windows.append((hwnd, win32gui.GetWindowText(hwnd)))\n",
    "\n",
    "top_windows = []\n",
    "win32gui.EnumWindows(window_enumeration_handler, top_windows)\n",
    "\n",
    "for hwnd, title in top_windows:\n",
    "    print(hwnd, title)"
   ]
  },
  {
   "cell_type": "code",
   "execution_count": null,
   "metadata": {},
   "outputs": [],
   "source": [
    "import win32gui\n",
    "\n",
    "def callBack(hwnd, handles:list):\n",
    "    if win32gui.IsWindowVisible(hwnd) & win32gui.GetWindowTextLength(hwnd):\n",
    "        print(f\"handler: {hwnd} / name: '{win32gui.GetWindowText(hwnd)}'\\nIt's size: {win32gui.GetWindowRect(hwnd)}\")\n",
    "        handles.append(hwnd)\n",
    "\n",
    "handles = []\n",
    "win32gui.EnumWindows(callBack, handles)\n",
    "handles"
   ]
  },
  {
   "cell_type": "code",
   "execution_count": 58,
   "metadata": {},
   "outputs": [
    {
     "name": "stdout",
     "output_type": "stream",
     "text": [
      "handle #: 264724 and name: '● test230321.ipynb - pokemon - Visual Studio Code'\n",
      "Size:(-8, -8, 1928, 1040)\n",
      "handle #: 330632 and name: 'SM-N950N'\n",
      "Size:(1329, 21, 1801, 990)\n",
      "handle #: 1574430 and name: '01) EnumWindows - 레벨업 파이썬 - Chrome'\n",
      "Size:(-8, -8, 1928, 1040)\n",
      "handle #: 265030 and name: '명령 프롬프트 - scrcpy'\n",
      "Size:(122, 130, 1251, 765)\n",
      "handle #: 264634 and name: 'pokemon 속성'\n",
      "Size:(348, 222, 795, 811)\n",
      "handle #: 66706 and name: 'MainWindow'\n",
      "Size:(154, 154, 254, 254)\n",
      "handle #: 197498 and name: 'Windows 입력 환경'\n",
      "Size:(0, 0, 1920, 1080)\n",
      "handle #: 199022 and name: 'Python'\n",
      "Size:(-32000, -32000, -31801, -31966)\n",
      "handle #: 1051414 and name: '메모장'\n",
      "Size:(-32000, -32000, -31801, -31966)\n",
      "handle #: 65808 and name: 'Program Manager'\n",
      "Size:(0, 0, 1920, 1080)\n"
     ]
    },
    {
     "data": {
      "text/plain": [
       "[264724,\n",
       " 330632,\n",
       " 1574430,\n",
       " 265030,\n",
       " 264634,\n",
       " 66706,\n",
       " 197498,\n",
       " 199022,\n",
       " 1051414,\n",
       " 65808]"
      ]
     },
     "execution_count": 58,
     "metadata": {},
     "output_type": "execute_result"
    }
   ],
   "source": [
    "import win32gui\n",
    "\n",
    "def callback(hwnd, hlist):\n",
    "    if win32gui.IsWindowVisible(hwnd) & (win32gui.GetWindowTextLength(hwnd) > 0):\n",
    "        print(f\"handle #: {hwnd} and name: '{win32gui.GetWindowText(hwnd)}'\\nSize:{win32gui.GetWindowRect(hwnd)}\")\n",
    "        hlist.append(hwnd)\n",
    "\n",
    "def callbacksome(hwnd, tup):\n",
    "    title = tup[0]\n",
    "    hlist = tup[1]\n",
    "    if win32gui.IsWindowVisible(hwnd) & (title.lower() in win32gui.GetWindowText(hwnd).lower()):\n",
    "        print(f\"handle #: {hwnd} and name: '{win32gui.GetWindowText(hwnd)}'\\nSize:{win32gui.GetWindowRect(hwnd)}\")\n",
    "        hlist.append(hwnd)\n",
    "\n",
    "def callbackall(hwnd, hlist):\n",
    "    print(f\"handle #: {hwnd} and name: '{win32gui.GetWindowText(hwnd)}'\\nSize:{win32gui.GetWindowRect(hwnd)}\")\n",
    "    hlist.append(hwnd)\n",
    "\n",
    "\n",
    "visibleHandles = []\n",
    "\n",
    "# win32gui.EnumWindows(callbackall, visibleHandles)\n",
    "para = ('sm', visibleHandles)\n",
    "win32gui.EnumWindows(callback, visibleHandles)\n",
    "# win32gui.EnumWindows(callbacksome, para)\n",
    "visibleHandles"
   ]
  },
  {
   "cell_type": "code",
   "execution_count": 55,
   "metadata": {},
   "outputs": [
    {
     "name": "stdout",
     "output_type": "stream",
     "text": [
      "0\n"
     ]
    }
   ],
   "source": [
    "print(win32gui.FindWindow(None, \"SM\"))"
   ]
  },
  {
   "cell_type": "code",
   "execution_count": null,
   "metadata": {},
   "outputs": [],
   "source": [
    "import win32gui\n",
    "\n",
    "def find_window_by_text(hwnd, text:str):\n",
    "    if win32gui.IsWindowVisible(hwnd) & (text in win32gui.GetWindowText(hwnd)):\n",
    "        print(f\"name: '{win32gui.GetWindowText(hwnd)}'\")"
   ]
  },
  {
   "cell_type": "code",
   "execution_count": 74,
   "metadata": {},
   "outputs": [],
   "source": [
    "from ppadb.client import Client as AdbClient\n",
    "adb_conf = dict(host='localhost', port=5037)\n",
    "client = AdbClient(**adb_conf)"
   ]
  },
  {
   "cell_type": "code",
   "execution_count": 75,
   "metadata": {},
   "outputs": [
    {
     "name": "stdout",
     "output_type": "stream",
     "text": [
      "ce071717d4035622047e\n",
      "ce10171ab2312a0d04\n"
     ]
    }
   ],
   "source": [
    "for device in client.devices():\n",
    "    print(device.get_serial_no())\n",
    "\n",
    "#S8\n",
    "device_s8 = client.device('ce10171ab2312a0d04')\n",
    "#Note8\n",
    "device_note8 = client.device('ce071717d4035622047e')"
   ]
  },
  {
   "cell_type": "code",
   "execution_count": 76,
   "metadata": {},
   "outputs": [
    {
     "name": "stdout",
     "output_type": "stream",
     "text": [
      "hwnd:1509504, text:'SM-G950N'\n",
      "Rect: (997, 42, 1469, 1017)\n",
      "hwnd:1117384, text:'SM-N950N'\n",
      "Rect: (1454, 42, 1926, 1017)\n"
     ]
    }
   ],
   "source": [
    "import win32gui\n",
    "def find_windows(hwnd, tuarg):\n",
    "    target_text = tuarg[0]\n",
    "    hwnd_list = tuarg[1]\n",
    "    if win32gui.IsWindowVisible(hwnd) and (target_text.lower() in win32gui.GetWindowText(hwnd).lower()):\n",
    "        print(f\"hwnd:{hwnd}, text:'{win32gui.GetWindowText(hwnd)}'\")\n",
    "        print(f\"Rect: {win32gui.GetWindowRect(hwnd)}\")\n",
    "        hwnd_list.append(hwnd)\n",
    "\n",
    "target_text = 'sm'\n",
    "hwnd_list = []    \n",
    "win32gui.EnumWindows(find_windows, (target_text, hwnd_list))\n",
    "# 우측에 작은화면으로 띄우기\n",
    "# win32gui.SetWindowPos(4000050, None, 100, 200, 200, 519, True)\n"
   ]
  },
  {
   "cell_type": "code",
   "execution_count": 77,
   "metadata": {},
   "outputs": [],
   "source": [
    "#(997, 42, 1469, 1017)\n",
    "s8_hwnd = 1509504\n",
    "#(1454, 42, 1926, 1017)\n",
    "note8_hwnd = 1117384\n",
    "\n",
    "# win32gui.MoveWindow(note8_hwnd, 0, 0, int(1080/2), int(1920/2)+120, True)\n",
    "# win32gui.MoveWindow(s8_hwnd, 0, 0, int(1080/2), int(1920/2)+120, True)\n",
    "# win32gui.MoveWindow(hwnd, 0, 0, 270, 560, True)"
   ]
  },
  {
   "cell_type": "code",
   "execution_count": 78,
   "metadata": {},
   "outputs": [],
   "source": [
    "note8_placement = win32gui.GetWindowPlacement(note8_hwnd)\n",
    "s8_placement = win32gui.GetWindowPlacement(s8_hwnd)"
   ]
  },
  {
   "cell_type": "code",
   "execution_count": 65,
   "metadata": {},
   "outputs": [],
   "source": [
    "# S8, Note8 placement.\n",
    "#(997, 42, 1469, 1017)\n",
    "#(1454, 42, 1926, 1017)\n",
    "\n",
    "win32gui.SetWindowPlacement(note8_hwnd, note8_placement)\n",
    "win32gui.SetWindowPlacement(s8_hwnd, s8_placement)"
   ]
  },
  {
   "cell_type": "code",
   "execution_count": 80,
   "metadata": {},
   "outputs": [
    {
     "data": {
      "text/plain": [
       "'ce071717d4035622047e'"
      ]
     },
     "execution_count": 80,
     "metadata": {},
     "output_type": "execute_result"
    }
   ],
   "source": [
    "device_note8.get_serial_no()"
   ]
  },
  {
   "cell_type": "code",
   "execution_count": 89,
   "metadata": {},
   "outputs": [],
   "source": [
    "import ppadb\n",
    "from ppadb.client import Client as AdbClient\n",
    "import win32gui    \n",
    "\n",
    "class android_pokemon:\n",
    "    def __init__(self, device: ppadb.device.Device) -> None:\n",
    "        self.device = device\n",
    "        self.snum = device.get_serial_no()\n",
    "        \n",
    "        if self.snum == 'ce10171ab2312a0d04':\n",
    "            self.window_text = 'SM-G950N' #G8\n",
    "        elif self.snum == 'ce071717d4035622047e':\n",
    "            self.window_text = 'SM-N950N' #Note*\n",
    "        \n",
    "        self.set_hwnd(self.window_text)\n",
    "\n",
    "    def find_hwnd_by_text(self, hwnd, window_text:str):\n",
    "        if win32gui.IsWindowVisible(hwnd) and (window_text == win32gui.GetWindowText(hwnd)):\n",
    "            print(f\"Found hwnd: {hwnd}\")\n",
    "            self.hwnd = hwnd\n",
    "            \n",
    "    def set_hwnd(self, window_text:str):\n",
    "        win32gui.EnumWindows(self.find_hwnd_by_text, window_text)\n",
    "    "
   ]
  },
  {
   "cell_type": "code",
   "execution_count": 90,
   "metadata": {},
   "outputs": [
    {
     "name": "stdout",
     "output_type": "stream",
     "text": [
      "Found hwnd: 1509504\n"
     ]
    }
   ],
   "source": [
    "poke_s8 = android_pokemon(device_s8)"
   ]
  },
  {
   "cell_type": "code",
   "execution_count": 92,
   "metadata": {},
   "outputs": [
    {
     "data": {
      "text/plain": [
       "1509504"
      ]
     },
     "execution_count": 92,
     "metadata": {},
     "output_type": "execute_result"
    }
   ],
   "source": [
    "poke_s8.hwnd"
   ]
  }
 ],
 "metadata": {
  "kernelspec": {
   "display_name": "py311",
   "language": "python",
   "name": "python3"
  },
  "language_info": {
   "codemirror_mode": {
    "name": "ipython",
    "version": 3
   },
   "file_extension": ".py",
   "mimetype": "text/x-python",
   "name": "python",
   "nbconvert_exporter": "python",
   "pygments_lexer": "ipython3",
   "version": "3.11.0"
  },
  "orig_nbformat": 4
 },
 "nbformat": 4,
 "nbformat_minor": 2
}
