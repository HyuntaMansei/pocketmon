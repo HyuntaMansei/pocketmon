{
 "cells": [
  {
   "cell_type": "code",
   "execution_count": 1,
   "metadata": {},
   "outputs": [],
   "source": [
    "import ppadb.device\n",
    "from ppadb.client import Client as AdbClient\n",
    "import win32gui\n",
    "import pyautogui\n",
    "import time\n",
    "import android_manager\n",
    "import poke_manager\n",
    "import importlib"
   ]
  },
  {
   "cell_type": "code",
   "execution_count": 12,
   "metadata": {},
   "outputs": [
    {
     "name": "stdout",
     "output_type": "stream",
     "text": [
      "Deviced SM-G950N is connedted\n",
      "Hwnd: 460606\n",
      "Deviced SM-N950N is connedted\n",
      "Hwnd: 1379040\n"
     ]
    }
   ],
   "source": [
    "importlib.reload(android_manager)\n",
    "importlib.reload(poke_manager)\n",
    "\n",
    "adb_conf = dict(host='localhost', port=5037)\n",
    "cur_client = AdbClient(**adb_conf)\n",
    "\n",
    "try:\n",
    "    pm_s8 = poke_manager.Poke_device(cur_client.device('ce10171ab2312a0d04'))\n",
    "except:\n",
    "    pass\n",
    "try:\n",
    "    pm_note8 = poke_manager.Poke_device(cur_client.device('ce071717d4035622047e'))\n",
    "except:\n",
    "    pass"
   ]
  },
  {
   "cell_type": "code",
   "execution_count": 13,
   "metadata": {},
   "outputs": [
    {
     "data": {
      "text/plain": [
       "True"
      ]
     },
     "execution_count": 13,
     "metadata": {},
     "output_type": "execute_result"
    }
   ],
   "source": [
    "import os\n",
    "from pathlib import Path\n",
    "base_path = str(Path.cwd()) + f'\\images\\\\'\n",
    "img_bottom_center_ball = 'bottom_center_ball.png'\n",
    "img = base_path + img_bottom_center_ball\n",
    "\n",
    "pm_s8.tap_image(img)\n",
    "pm_note8.tap_image(img)"
   ]
  },
  {
   "cell_type": "code",
   "execution_count": null,
   "metadata": {},
   "outputs": [],
   "source": []
  },
  {
   "cell_type": "code",
   "execution_count": 74,
   "metadata": {},
   "outputs": [
    {
     "name": "stdout",
     "output_type": "stream",
     "text": [
      "(-2165, 1065, -1673, 2085)\n",
      "(-2165, 1065, 492, 1020)\n"
     ]
    }
   ],
   "source": []
  },
  {
   "cell_type": "code",
   "execution_count": 6,
   "metadata": {},
   "outputs": [
    {
     "data": {
      "text/plain": [
       "(2886, 1002, 492, 1020)"
      ]
     },
     "execution_count": 6,
     "metadata": {},
     "output_type": "execute_result"
    }
   ],
   "source": [
    "pm_s8.get_region()"
   ]
  },
  {
   "cell_type": "code",
   "execution_count": 7,
   "metadata": {},
   "outputs": [
    {
     "data": {
      "text/plain": [
       "(3378, 1002, 492, 1020)"
      ]
     },
     "execution_count": 7,
     "metadata": {},
     "output_type": "execute_result"
    }
   ],
   "source": [
    "pm_note8.get_region()"
   ]
  },
  {
   "cell_type": "code",
   "execution_count": 72,
   "metadata": {},
   "outputs": [
    {
     "data": {
      "text/plain": [
       "(2886, 1002, 3378, 2022)"
      ]
     },
     "execution_count": 72,
     "metadata": {},
     "output_type": "execute_result"
    }
   ],
   "source": [
    "win32gui.GetWindowRect(pm_s8.hwnd)"
   ]
  },
  {
   "cell_type": "code",
   "execution_count": 78,
   "metadata": {},
   "outputs": [],
   "source": [
    "pm_s8.move_window_by_xyxy(2886, 1002)"
   ]
  },
  {
   "cell_type": "code",
   "execution_count": 8,
   "metadata": {},
   "outputs": [
    {
     "ename": "NameError",
     "evalue": "name 'img' is not defined",
     "output_type": "error",
     "traceback": [
      "\u001b[1;31m---------------------------------------------------------------------------\u001b[0m",
      "\u001b[1;31mNameError\u001b[0m                                 Traceback (most recent call last)",
      "Cell \u001b[1;32mIn[8], line 1\u001b[0m\n\u001b[1;32m----> 1\u001b[0m pm_s8\u001b[39m.\u001b[39mtap_image(img)\n",
      "\u001b[1;31mNameError\u001b[0m: name 'img' is not defined"
     ]
    }
   ],
   "source": [
    "pm_s8.tap_image(img)"
   ]
  }
 ],
 "metadata": {
  "kernelspec": {
   "display_name": "py311",
   "language": "python",
   "name": "python3"
  },
  "language_info": {
   "codemirror_mode": {
    "name": "ipython",
    "version": 3
   },
   "file_extension": ".py",
   "mimetype": "text/x-python",
   "name": "python",
   "nbconvert_exporter": "python",
   "pygments_lexer": "ipython3",
   "version": "3.11.0"
  },
  "orig_nbformat": 4
 },
 "nbformat": 4,
 "nbformat_minor": 2
}
