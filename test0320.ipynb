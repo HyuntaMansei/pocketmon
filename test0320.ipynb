{
 "cells": [
  {
   "cell_type": "code",
   "execution_count": 1,
   "metadata": {},
   "outputs": [],
   "source": [
    "from ppadb.client import Client as AdbClient"
   ]
  },
  {
   "cell_type": "code",
   "execution_count": 2,
   "metadata": {},
   "outputs": [
    {
     "name": "stdout",
     "output_type": "stream",
     "text": [
      "ce071717d4035622047e\n",
      "ce10171ab2312a0d04\n"
     ]
    }
   ],
   "source": [
    "adb_conf = dict(host='localhost',port=5037)\n",
    "client = AdbClient(**adb_conf)\n",
    "for d in client.devices():\n",
    "    print(d.get_serial_no())\n",
    "#Note8\n",
    "device_note8 = client.device('ce071717d4035622047e')\n",
    "#S8\n",
    "device_s8 = client.device('ce10171ab2312a0d04')"
   ]
  },
  {
   "cell_type": "code",
   "execution_count": 35,
   "metadata": {},
   "outputs": [],
   "source": [
    "#excel과 연동하기 연습. 넘파이 사용할까?\n",
    "import numpy as np\n",
    "import pandas as pd\n",
    "import openpyxl"
   ]
  },
  {
   "cell_type": "code",
   "execution_count": 45,
   "metadata": {},
   "outputs": [],
   "source": [
    "test_data = np.arange(20)\n",
    "test_data = test_data.reshape(4,5)\n",
    "df = pd.DataFrame(test_data, columns=['a','b','c','d','e'])\n",
    "try:\n",
    "    df.to_excel('example.xlsx', index=False, header=True)\n",
    "except:\n",
    "    print('Error')"
   ]
  },
  {
   "cell_type": "code",
   "execution_count": null,
   "metadata": {},
   "outputs": [],
   "source": [
    "df2 = pd.read_excel('example.xlsx', index_col=2, header=None)\n",
    "df2"
   ]
  },
  {
   "cell_type": "code",
   "execution_count": 68,
   "metadata": {},
   "outputs": [
    {
     "data": {
      "text/plain": [
       "''"
      ]
     },
     "execution_count": 68,
     "metadata": {},
     "output_type": "execute_result"
    }
   ],
   "source": [
    "#폰 화면 캡처해서 가져오기\n",
    "# device_note8.screencap()\n",
    "\"\"\"\n",
    "adb shell screencap -p /sdcard/screen.png\n",
    "adb pull /sdcard/screen.png\n",
    "adb shell rm /sdcard/screen.png\n",
    "\"\"\"\n",
    "import os\n",
    "from pathlib import Path\n",
    "\n",
    "device_note8.shell('screencap -p /sdcard/screen.png')\n",
    "device_note8.shell('pull /sdcard/screen.png')\n",
    "device_note8.shell('rm /sdcard/screen.png')"
   ]
  },
  {
   "cell_type": "code",
   "execution_count": 74,
   "metadata": {},
   "outputs": [
    {
     "name": "stdout",
     "output_type": "stream",
     "text": [
      "hello\n"
     ]
    }
   ],
   "source": [
    "\n",
    "device_note8.shell(\"screencap -p | sed 's/\\r$//' > screenshot.png\")\n",
    "#디바이스에서 사진을 찍으니 너무 느린데? 그냥 컴터에서 영상 서치하는 방식이 나을 듯?\n",
    "# device_note8.shell(\"screencap -p | sed 's/\\r$//' > screenshot.png\")\n",
    "print(\"hello\")\n",
    "# with open(\"screen.png\", \"wb\") as fp:\n",
    "#     fp.write(result)"
   ]
  },
  {
   "cell_type": "code",
   "execution_count": 4,
   "metadata": {},
   "outputs": [],
   "source": [
    "import pyautogui as pa\n",
    "from pathlib import Path\n"
   ]
  },
  {
   "cell_type": "code",
   "execution_count": 5,
   "metadata": {},
   "outputs": [],
   "source": [
    "from IPython.core.interactiveshell import InteractiveShell\n",
    "InteractiveShell.ast_node_interactivity = 'all'"
   ]
  },
  {
   "cell_type": "code",
   "execution_count": 7,
   "metadata": {},
   "outputs": [
    {
     "data": {
      "text/plain": [
       "Size(width=3840, height=2160)"
      ]
     },
     "execution_count": 7,
     "metadata": {},
     "output_type": "execute_result"
    }
   ],
   "source": [
    "pa.size()\n",
    "# region = (-1342, 0, 1342, 2000)\n",
    "# pa.locateOnScreen('example.png', region=region)"
   ]
  }
 ],
 "metadata": {
  "kernelspec": {
   "display_name": "py311",
   "language": "python",
   "name": "python3"
  },
  "language_info": {
   "codemirror_mode": {
    "name": "ipython",
    "version": 3
   },
   "file_extension": ".py",
   "mimetype": "text/x-python",
   "name": "python",
   "nbconvert_exporter": "python",
   "pygments_lexer": "ipython3",
   "version": "3.11.0"
  },
  "orig_nbformat": 4
 },
 "nbformat": 4,
 "nbformat_minor": 2
}
