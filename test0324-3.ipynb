{
 "cells": [
  {
   "cell_type": "code",
   "execution_count": 15,
   "metadata": {},
   "outputs": [],
   "source": [
    "import importlib\n",
    "import android_manager\n",
    "import poke_manager\n",
    "import time"
   ]
  },
  {
   "cell_type": "code",
   "execution_count": 22,
   "metadata": {},
   "outputs": [
    {
     "name": "stdout",
     "output_type": "stream",
     "text": [
      "ce071717d4035622047e\n",
      "ce10171ab2312a0d04\n",
      "Deviced SM-G950N is connedted\n",
      "Hwnd: 1247838\n",
      "Deviced SM-N950N is connedted\n",
      "Hwnd: 396004\n"
     ]
    }
   ],
   "source": [
    "importlib.reload(android_manager)\n",
    "importlib.reload(poke_manager)\n",
    "\n",
    "from ppadb.client import Client as AdbClient\n",
    "adb_conf = dict(host='localhost', port=5037)\n",
    "client = AdbClient(**adb_conf)\n",
    "for d in client.devices():\n",
    "    print(d.get_serial_no())\n",
    "\n",
    "#scrcpy가 실행되어져 있어야 한다.\n",
    "dev_s8 = poke_manager.Poke_device(client.device('ce10171ab2312a0d04'))\n",
    "dev_note8 = poke_manager.Poke_device(client.device('ce071717d4035622047e'))"
   ]
  },
  {
   "cell_type": "code",
   "execution_count": 36,
   "metadata": {},
   "outputs": [],
   "source": [
    "dev_s8.shell(\"input text '&Whakfl'\")"
   ]
  },
  {
   "cell_type": "code",
   "execution_count": null,
   "metadata": {},
   "outputs": [],
   "source": [
    "dev_note8.evolve_pokemon(2)"
   ]
  },
  {
   "cell_type": "code",
   "execution_count": 5,
   "metadata": {},
   "outputs": [
    {
     "data": {
      "text/plain": [
       "''"
      ]
     },
     "execution_count": 5,
     "metadata": {},
     "output_type": "execute_result"
    }
   ],
   "source": [
    "dev_s8.device.shell('settings put system screen_brightness 0')\n",
    "dev_note8.device.shell('settings put system screen_brightness 0')"
   ]
  },
  {
   "cell_type": "code",
   "execution_count": 24,
   "metadata": {},
   "outputs": [],
   "source": [
    "# dev_note8.evolve_pokemon(2)\n",
    "dev_note8.shell('input text \"!ryghks\"')"
   ]
  },
  {
   "cell_type": "code",
   "execution_count": 25,
   "metadata": {},
   "outputs": [
    {
     "data": {
      "text/plain": [
       "''"
      ]
     },
     "execution_count": 25,
     "metadata": {},
     "output_type": "execute_result"
    }
   ],
   "source": [
    "text = 'Whakfl'\n",
    "dev_note8.device.shell(f'input text {text}')"
   ]
  },
  {
   "cell_type": "code",
   "execution_count": 42,
   "metadata": {},
   "outputs": [
    {
     "data": {
      "text/plain": [
       "''"
      ]
     },
     "execution_count": 42,
     "metadata": {},
     "output_type": "execute_result"
    }
   ],
   "source": [
    "text = 'tndnjs&vkxmsj vhzptahs0'\n",
    "dev_note8.device.input_text(text)"
   ]
  },
  {
   "cell_type": "code",
   "execution_count": 45,
   "metadata": {},
   "outputs": [
    {
     "data": {
      "text/plain": [
       "''"
      ]
     },
     "execution_count": 45,
     "metadata": {},
     "output_type": "execute_result"
    }
   ],
   "source": [
    "text = 'tjdnf&vkxmsj vhzptahs0'\n",
    "dev_s8.device.input_text(text)"
   ]
  },
  {
   "cell_type": "code",
   "execution_count": null,
   "metadata": {},
   "outputs": [],
   "source": [
    "dev_s8.exchange(dev_note8, 10)"
   ]
  },
  {
   "cell_type": "code",
   "execution_count": 7,
   "metadata": {},
   "outputs": [],
   "source": [
    "import win32gui\n",
    "\n",
    "def set_size_in_half(device):\n",
    "    (left, top, right, bottom) = win32gui.GetWindowRect(device.hwnd)\n",
    "    width = (right - left) // 2\n",
    "    height = (bottom - top) // 2\n",
    "    win32gui.MoveWindow(device.hwnd, left, top, width, height, True)"
   ]
  },
  {
   "cell_type": "code",
   "execution_count": 10,
   "metadata": {},
   "outputs": [],
   "source": [
    "set_size_in_half(dev_note8)\n",
    "set_size_in_half(dev_s8)"
   ]
  },
  {
   "cell_type": "code",
   "execution_count": null,
   "metadata": {},
   "outputs": [],
   "source": [
    "dev_s8.exchange(dev_note8, 20)"
   ]
  },
  {
   "cell_type": "code",
   "execution_count": 46,
   "metadata": {},
   "outputs": [],
   "source": [
    "# win32gui.GetWindowRgn(dev_s8.hwnd)\n",
    "pla = []\n",
    "pla = win32gui.GetWindowPlacement(dev_s8.hwnd)[4]\n",
    "half_pla = [i/2 for i in pla]\n",
    "s8_rect = win32gui.GetWindowRect(dev_s8.hwnd)\n",
    "note8_rect = win32gui.GetWindowRect(dev_note8.hwnd)\n",
    "#s8: (-579, 416, -333, 926) / note8: (-345, 420, -99, 930)"
   ]
  },
  {
   "cell_type": "code",
   "execution_count": 58,
   "metadata": {},
   "outputs": [],
   "source": [
    "win32gui.MoveWindow(dev_s8.hwnd, -1080, 416, -333+579, 926-416, True)\n",
    "win32gui.MoveWindow(dev_note8.hwnd, -834-12, 416, -333+579, 926-416, True)"
   ]
  }
 ],
 "metadata": {
  "kernelspec": {
   "display_name": "py311",
   "language": "python",
   "name": "python3"
  },
  "language_info": {
   "codemirror_mode": {
    "name": "ipython",
    "version": 3
   },
   "file_extension": ".py",
   "mimetype": "text/x-python",
   "name": "python",
   "nbconvert_exporter": "python",
   "pygments_lexer": "ipython3",
   "version": "3.11.0"
  },
  "orig_nbformat": 4
 },
 "nbformat": 4,
 "nbformat_minor": 2
}
